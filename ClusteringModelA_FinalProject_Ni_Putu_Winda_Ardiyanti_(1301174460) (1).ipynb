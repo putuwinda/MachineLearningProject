{
  "nbformat": 4,
  "nbformat_minor": 0,
  "metadata": {
    "anaconda-cloud": {},
    "kernelspec": {
      "display_name": "Python 3",
      "language": "python",
      "name": "python3"
    },
    "language_info": {
      "codemirror_mode": {
        "name": "ipython",
        "version": 3
      },
      "file_extension": ".py",
      "mimetype": "text/x-python",
      "name": "python",
      "nbconvert_exporter": "python",
      "pygments_lexer": "ipython3",
      "version": "3.5.2"
    },
    "colab": {
      "name": "ClusteringModelA-FinalProject- Ni Putu Winda Ardiyanti (1301174460).ipynb",
      "provenance": []
    }
  },
  "cells": [
    {
      "cell_type": "markdown",
      "metadata": {
        "id": "3XITDXk5-9Jy",
        "colab_type": "text"
      },
      "source": [
        "# CLUSTERING MODEL A\n",
        "\n",
        "IN THIS CLUSTERING THE MODEL IS USING 2 FEATURES WHICH IS **'FUEL' AND 'MODEL'**\n",
        "\n",
        "*   THE CLUSTERING PROCESS THAT IS USED IN THIS MODEL IS **K-MEANS ALGORITHM**\n",
        "*   THERE ARE **IMPUTATION OF THE MISSING VALUE** USING THE MODUS OF THE DATA IN THIS MODEL\n",
        "*   THERE ARE NORMALIZATION OF THE DATA USING **MIN MAX NORMALIZATION** IN THIS MODEL\n",
        "\n"
      ]
    },
    {
      "cell_type": "code",
      "metadata": {
        "id": "ojLffSqEQluT",
        "colab_type": "code",
        "outputId": "d7d7a75b-b3d3-4092-98a5-740df5ed5d84",
        "colab": {
          "resources": {
            "http://localhost:8080/nbextensions/google.colab/files.js": {
              "data": "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",
              "ok": true,
              "headers": [
                [
                  "content-type",
                  "application/javascript"
                ]
              ],
              "status": 200,
              "status_text": ""
            }
          },
          "base_uri": "https://localhost:8080/",
          "height": 74
        }
      },
      "source": [
        "from google.colab import files\n",
        "uploaded = files.upload()"
      ],
      "execution_count": 0,
      "outputs": [
        {
          "output_type": "display_data",
          "data": {
            "text/html": [
              "\n",
              "     <input type=\"file\" id=\"files-10149e86-d314-4a0f-9e70-0b0f1a360080\" name=\"files[]\" multiple disabled />\n",
              "     <output id=\"result-10149e86-d314-4a0f-9e70-0b0f1a360080\">\n",
              "      Upload widget is only available when the cell has been executed in the\n",
              "      current browser session. Please rerun this cell to enable.\n",
              "      </output>\n",
              "      <script src=\"/nbextensions/google.colab/files.js\"></script> "
            ],
            "text/plain": [
              "<IPython.core.display.HTML object>"
            ]
          },
          "metadata": {
            "tags": []
          }
        },
        {
          "output_type": "stream",
          "text": [
            "Saving used_cars.csv to used_cars.csv\n"
          ],
          "name": "stdout"
        }
      ]
    },
    {
      "cell_type": "markdown",
      "metadata": {
        "id": "LlnYrqi3VGdy",
        "colab_type": "text"
      },
      "source": [
        "**Read the Dataset**"
      ]
    },
    {
      "cell_type": "code",
      "metadata": {
        "id": "lYoGZSSZXTAl",
        "colab_type": "code",
        "colab": {}
      },
      "source": [
        "import pandas as pd\n",
        "import io\n",
        "df1 = pd.read_csv(io.BytesIO(uploaded['used_cars.csv']))"
      ],
      "execution_count": 0,
      "outputs": []
    },
    {
      "cell_type": "code",
      "metadata": {
        "id": "tW4xxSA11kfQ",
        "colab_type": "code",
        "outputId": "37034c76-e07f-4464-bcc9-5cc7b4b61822",
        "colab": {
          "base_uri": "https://localhost:8080/",
          "height": 603
        }
      },
      "source": [
        "df1.info()\n"
      ],
      "execution_count": 0,
      "outputs": [
        {
          "output_type": "stream",
          "text": [
            "<class 'pandas.core.frame.DataFrame'>\n",
            "RangeIndex: 20001 entries, 0 to 20000\n",
            "Data columns (total 26 columns):\n",
            " #   Column        Non-Null Count  Dtype  \n",
            "---  ------        --------------  -----  \n",
            " 0   Unnamed: 0    20001 non-null  int64  \n",
            " 1   id            20001 non-null  int64  \n",
            " 2   url           20001 non-null  object \n",
            " 3   region        20001 non-null  object \n",
            " 4   region_url    20001 non-null  object \n",
            " 5   price         20001 non-null  int64  \n",
            " 6   year          19989 non-null  float64\n",
            " 7   manufacturer  19296 non-null  object \n",
            " 8   model         19736 non-null  object \n",
            " 9   condition     10849 non-null  object \n",
            " 10  cylinders     12916 non-null  object \n",
            " 11  fuel          19928 non-null  object \n",
            " 12  odometer      17612 non-null  float64\n",
            " 13  title_status  19891 non-null  object \n",
            " 14  transmission  19811 non-null  object \n",
            " 15  vin           13356 non-null  object \n",
            " 16  drive         15359 non-null  object \n",
            " 17  size          6886 non-null   object \n",
            " 18  type          16342 non-null  object \n",
            " 19  paint_color   14487 non-null  object \n",
            " 20  image_url     20001 non-null  object \n",
            " 21  description   20001 non-null  object \n",
            " 22  county        0 non-null      float64\n",
            " 23  state         20001 non-null  object \n",
            " 24  lat           18970 non-null  float64\n",
            " 25  long          18970 non-null  float64\n",
            "dtypes: float64(5), int64(3), object(18)\n",
            "memory usage: 4.0+ MB\n"
          ],
          "name": "stdout"
        }
      ]
    },
    {
      "cell_type": "code",
      "metadata": {
        "id": "DbT9rz90Gn6l",
        "colab_type": "code",
        "outputId": "d19a8cd6-3208-4097-d4b6-9e1c662d5595",
        "colab": {
          "base_uri": "https://localhost:8080/",
          "height": 123
        }
      },
      "source": [
        "#counts the value of 'fuel'\n",
        "df1['fuel'].value_counts()"
      ],
      "execution_count": 0,
      "outputs": [
        {
          "output_type": "execute_result",
          "data": {
            "text/plain": [
              "gas         17599\n",
              "diesel       1660\n",
              "other         455\n",
              "hybrid        185\n",
              "electric       29\n",
              "Name: fuel, dtype: int64"
            ]
          },
          "metadata": {
            "tags": []
          },
          "execution_count": 115
        }
      ]
    },
    {
      "cell_type": "code",
      "metadata": {
        "id": "Oqp_je2hFtnx",
        "colab_type": "code",
        "outputId": "ce66c80b-6db0-4108-dbbe-34d31d131528",
        "colab": {
          "base_uri": "https://localhost:8080/",
          "height": 230
        }
      },
      "source": [
        "#counts the value of 'model'\n",
        "df1['model'].value_counts()"
      ],
      "execution_count": 0,
      "outputs": [
        {
          "output_type": "execute_result",
          "data": {
            "text/plain": [
              "f-150                           450\n",
              "1500                            325\n",
              "silverado 1500                  212\n",
              "civic                           191\n",
              "silverado                       187\n",
              "                               ... \n",
              "charger srt                       1\n",
              "tundra crewmax limited            1\n",
              "1500 st quad cab 4wd              1\n",
              "cargo van tradesman               1\n",
              "FOED TRANSIT CONNECT 2.0L XL      1\n",
              "Name: model, Length: 4144, dtype: int64"
            ]
          },
          "metadata": {
            "tags": []
          },
          "execution_count": 116
        }
      ]
    },
    {
      "cell_type": "markdown",
      "metadata": {
        "id": "w7_XqlppVMtJ",
        "colab_type": "text"
      },
      "source": [
        "**Data Preprocessing**\n",
        "\n",
        "In this phase we do the Data Preprocessing to our datasets"
      ]
    },
    {
      "cell_type": "markdown",
      "metadata": {
        "id": "mnAJwFglVXV3",
        "colab_type": "text"
      },
      "source": [
        "1. **Drop** the Unnecesary Columns\n",
        "\n",
        "in this phase we drop all the columns except 'Fuel' and 'Model' columns, since the data that we are using to clustering is 'Fuel' and 'Model'"
      ]
    },
    {
      "cell_type": "code",
      "metadata": {
        "id": "am0tWTJKXc2-",
        "colab_type": "code",
        "colab": {}
      },
      "source": [
        "# drop some columns\n",
        "df1 = df1.drop(columns=['region_url', 'image_url','Unnamed: 0', 'year', 'price', 'county','url','cylinders','title_status','vin','paint_color', 'description','long','lat','size','condition','id','manufacturer','state','region','odometer','transmission','drive','type'])"
      ],
      "execution_count": 0,
      "outputs": []
    },
    {
      "cell_type": "code",
      "metadata": {
        "id": "ImaIBCM9_4rE",
        "colab_type": "code",
        "outputId": "cb89896d-dfc8-4bfd-eb5b-6577df458d63",
        "colab": {
          "base_uri": "https://localhost:8080/",
          "height": 70
        }
      },
      "source": [
        "#search the missing value on the data\n",
        "df1.isnull().sum()"
      ],
      "execution_count": 0,
      "outputs": [
        {
          "output_type": "execute_result",
          "data": {
            "text/plain": [
              "model    265\n",
              "fuel      73\n",
              "dtype: int64"
            ]
          },
          "metadata": {
            "tags": []
          },
          "execution_count": 119
        }
      ]
    },
    {
      "cell_type": "markdown",
      "metadata": {
        "id": "B0gEi-7yLTjr",
        "colab_type": "text"
      },
      "source": [
        "2. **Fill the Missing Value** of the Data"
      ]
    },
    {
      "cell_type": "code",
      "metadata": {
        "id": "kWBkQiXRHk6p",
        "colab_type": "code",
        "colab": {}
      },
      "source": [
        "categorical = ['fuel','model']\n",
        "for cat in categorical:\n",
        "    df1[cat] = df1[cat].fillna(df1[cat].mode().values[0])"
      ],
      "execution_count": 0,
      "outputs": []
    },
    {
      "cell_type": "code",
      "metadata": {
        "id": "QjYVwhFTHqAW",
        "colab_type": "code",
        "outputId": "2f86ff46-4596-4f96-e097-70fdbf618a08",
        "colab": {
          "base_uri": "https://localhost:8080/",
          "height": 70
        }
      },
      "source": [
        "df1.isnull().sum()"
      ],
      "execution_count": 0,
      "outputs": [
        {
          "output_type": "execute_result",
          "data": {
            "text/plain": [
              "model    0\n",
              "fuel     0\n",
              "dtype: int64"
            ]
          },
          "metadata": {
            "tags": []
          },
          "execution_count": 121
        }
      ]
    },
    {
      "cell_type": "code",
      "metadata": {
        "id": "58lOjTaDMriP",
        "colab_type": "code",
        "outputId": "63ff346c-4868-4efd-81e8-730a334786e6",
        "colab": {
          "base_uri": "https://localhost:8080/",
          "height": 406
        }
      },
      "source": [
        "dfnew = pd.DataFrame(df1)\n",
        "dfnew"
      ],
      "execution_count": 0,
      "outputs": [
        {
          "output_type": "execute_result",
          "data": {
            "text/html": [
              "<div>\n",
              "<style scoped>\n",
              "    .dataframe tbody tr th:only-of-type {\n",
              "        vertical-align: middle;\n",
              "    }\n",
              "\n",
              "    .dataframe tbody tr th {\n",
              "        vertical-align: top;\n",
              "    }\n",
              "\n",
              "    .dataframe thead th {\n",
              "        text-align: right;\n",
              "    }\n",
              "</style>\n",
              "<table border=\"1\" class=\"dataframe\">\n",
              "  <thead>\n",
              "    <tr style=\"text-align: right;\">\n",
              "      <th></th>\n",
              "      <th>model</th>\n",
              "      <th>fuel</th>\n",
              "    </tr>\n",
              "  </thead>\n",
              "  <tbody>\n",
              "    <tr>\n",
              "      <th>0</th>\n",
              "      <td>golf r</td>\n",
              "      <td>gas</td>\n",
              "    </tr>\n",
              "    <tr>\n",
              "      <th>1</th>\n",
              "      <td>f-150</td>\n",
              "      <td>gas</td>\n",
              "    </tr>\n",
              "    <tr>\n",
              "      <th>2</th>\n",
              "      <td>sierra 1500</td>\n",
              "      <td>gas</td>\n",
              "    </tr>\n",
              "    <tr>\n",
              "      <th>3</th>\n",
              "      <td>f-150</td>\n",
              "      <td>gas</td>\n",
              "    </tr>\n",
              "    <tr>\n",
              "      <th>4</th>\n",
              "      <td>f-450</td>\n",
              "      <td>diesel</td>\n",
              "    </tr>\n",
              "    <tr>\n",
              "      <th>...</th>\n",
              "      <td>...</td>\n",
              "      <td>...</td>\n",
              "    </tr>\n",
              "    <tr>\n",
              "      <th>19996</th>\n",
              "      <td>cummin 2500 laramie</td>\n",
              "      <td>diesel</td>\n",
              "    </tr>\n",
              "    <tr>\n",
              "      <th>19997</th>\n",
              "      <td>sentra</td>\n",
              "      <td>gas</td>\n",
              "    </tr>\n",
              "    <tr>\n",
              "      <th>19998</th>\n",
              "      <td>grand cherokee limited</td>\n",
              "      <td>gas</td>\n",
              "    </tr>\n",
              "    <tr>\n",
              "      <th>19999</th>\n",
              "      <td>corolla</td>\n",
              "      <td>gas</td>\n",
              "    </tr>\n",
              "    <tr>\n",
              "      <th>20000</th>\n",
              "      <td>4runner sr5 4x4 gas suv</td>\n",
              "      <td>gas</td>\n",
              "    </tr>\n",
              "  </tbody>\n",
              "</table>\n",
              "<p>20001 rows × 2 columns</p>\n",
              "</div>"
            ],
            "text/plain": [
              "                         model    fuel\n",
              "0                       golf r     gas\n",
              "1                        f-150     gas\n",
              "2                  sierra 1500     gas\n",
              "3                        f-150     gas\n",
              "4                        f-450  diesel\n",
              "...                        ...     ...\n",
              "19996      cummin 2500 laramie  diesel\n",
              "19997                   sentra     gas\n",
              "19998   grand cherokee limited     gas\n",
              "19999                  corolla     gas\n",
              "20000  4runner sr5 4x4 gas suv     gas\n",
              "\n",
              "[20001 rows x 2 columns]"
            ]
          },
          "metadata": {
            "tags": []
          },
          "execution_count": 122
        }
      ]
    },
    {
      "cell_type": "code",
      "metadata": {
        "id": "4SWAU0yGMta4",
        "colab_type": "code",
        "outputId": "c99270cb-5981-4be2-8196-f4dab0fbe616",
        "colab": {
          "base_uri": "https://localhost:8080/",
          "height": 406
        }
      },
      "source": [
        "df = pd.DataFrame(df1)\n",
        "df"
      ],
      "execution_count": 0,
      "outputs": [
        {
          "output_type": "execute_result",
          "data": {
            "text/html": [
              "<div>\n",
              "<style scoped>\n",
              "    .dataframe tbody tr th:only-of-type {\n",
              "        vertical-align: middle;\n",
              "    }\n",
              "\n",
              "    .dataframe tbody tr th {\n",
              "        vertical-align: top;\n",
              "    }\n",
              "\n",
              "    .dataframe thead th {\n",
              "        text-align: right;\n",
              "    }\n",
              "</style>\n",
              "<table border=\"1\" class=\"dataframe\">\n",
              "  <thead>\n",
              "    <tr style=\"text-align: right;\">\n",
              "      <th></th>\n",
              "      <th>model</th>\n",
              "      <th>fuel</th>\n",
              "    </tr>\n",
              "  </thead>\n",
              "  <tbody>\n",
              "    <tr>\n",
              "      <th>0</th>\n",
              "      <td>golf r</td>\n",
              "      <td>gas</td>\n",
              "    </tr>\n",
              "    <tr>\n",
              "      <th>1</th>\n",
              "      <td>f-150</td>\n",
              "      <td>gas</td>\n",
              "    </tr>\n",
              "    <tr>\n",
              "      <th>2</th>\n",
              "      <td>sierra 1500</td>\n",
              "      <td>gas</td>\n",
              "    </tr>\n",
              "    <tr>\n",
              "      <th>3</th>\n",
              "      <td>f-150</td>\n",
              "      <td>gas</td>\n",
              "    </tr>\n",
              "    <tr>\n",
              "      <th>4</th>\n",
              "      <td>f-450</td>\n",
              "      <td>diesel</td>\n",
              "    </tr>\n",
              "    <tr>\n",
              "      <th>...</th>\n",
              "      <td>...</td>\n",
              "      <td>...</td>\n",
              "    </tr>\n",
              "    <tr>\n",
              "      <th>19996</th>\n",
              "      <td>cummin 2500 laramie</td>\n",
              "      <td>diesel</td>\n",
              "    </tr>\n",
              "    <tr>\n",
              "      <th>19997</th>\n",
              "      <td>sentra</td>\n",
              "      <td>gas</td>\n",
              "    </tr>\n",
              "    <tr>\n",
              "      <th>19998</th>\n",
              "      <td>grand cherokee limited</td>\n",
              "      <td>gas</td>\n",
              "    </tr>\n",
              "    <tr>\n",
              "      <th>19999</th>\n",
              "      <td>corolla</td>\n",
              "      <td>gas</td>\n",
              "    </tr>\n",
              "    <tr>\n",
              "      <th>20000</th>\n",
              "      <td>4runner sr5 4x4 gas suv</td>\n",
              "      <td>gas</td>\n",
              "    </tr>\n",
              "  </tbody>\n",
              "</table>\n",
              "<p>20001 rows × 2 columns</p>\n",
              "</div>"
            ],
            "text/plain": [
              "                         model    fuel\n",
              "0                       golf r     gas\n",
              "1                        f-150     gas\n",
              "2                  sierra 1500     gas\n",
              "3                        f-150     gas\n",
              "4                        f-450  diesel\n",
              "...                        ...     ...\n",
              "19996      cummin 2500 laramie  diesel\n",
              "19997                   sentra     gas\n",
              "19998   grand cherokee limited     gas\n",
              "19999                  corolla     gas\n",
              "20000  4runner sr5 4x4 gas suv     gas\n",
              "\n",
              "[20001 rows x 2 columns]"
            ]
          },
          "metadata": {
            "tags": []
          },
          "execution_count": 124
        }
      ]
    },
    {
      "cell_type": "markdown",
      "metadata": {
        "id": "mUo4t2y_V0-Z",
        "colab_type": "text"
      },
      "source": [
        "3. **Encode the Columns**, in this phase we transform the non numerical labels  which is 'Fuel' and 'Model' to numerical labels"
      ]
    },
    {
      "cell_type": "code",
      "metadata": {
        "id": "y3IeTlJAmbLm",
        "colab_type": "code",
        "colab": {}
      },
      "source": [
        "#import skleaen \n",
        "from sklearn import preprocessing\n",
        "le = preprocessing.LabelEncoder()\n",
        "\n",
        "model         = le.fit_transform(df['model'])\n",
        "fuel          = le.fit_transform(df['fuel'])\n",
        "\n",
        "df['model'] = model\n",
        "df['fuel']  = fuel"
      ],
      "execution_count": 0,
      "outputs": []
    },
    {
      "cell_type": "markdown",
      "metadata": {
        "id": "A4LO8NJQWrRu",
        "colab_type": "text"
      },
      "source": [
        "4. **Data Normalization** , in this phase we normalize the data that we are going to use using MinMaxScaler()"
      ]
    },
    {
      "cell_type": "code",
      "metadata": {
        "id": "mhMTf6Sef7Cn",
        "colab_type": "code",
        "outputId": "86c64b0a-863a-4a20-ccbe-1590ece64fa3",
        "colab": {
          "base_uri": "https://localhost:8080/",
          "height": 141
        }
      },
      "source": [
        "from sklearn.preprocessing import MinMaxScaler\n",
        "#assign the MinMaxScaler()\n",
        "scaler = MinMaxScaler()\n",
        "newarr = scaler.fit_transform(df)\n",
        "newarr\n"
      ],
      "execution_count": 0,
      "outputs": [
        {
          "output_type": "execute_result",
          "data": {
            "text/plain": [
              "array([[0.53029206, 0.5       ],\n",
              "       [0.42577842, 0.5       ],\n",
              "       [0.79290369, 0.5       ],\n",
              "       ...,\n",
              "       [0.53680908, 0.5       ],\n",
              "       [0.30798938, 0.5       ],\n",
              "       [0.08979001, 0.5       ]])"
            ]
          },
          "metadata": {
            "tags": []
          },
          "execution_count": 126
        }
      ]
    },
    {
      "cell_type": "code",
      "metadata": {
        "id": "UBUeFwihgakr",
        "colab_type": "code",
        "outputId": "acb0b1d1-ecf1-4ad9-97f8-32145aee7343",
        "colab": {
          "base_uri": "https://localhost:8080/",
          "height": 406
        }
      },
      "source": [
        "# change the normalize result to the dataframe\n",
        "#change newarr to xdf\n",
        "xdf =pd.DataFrame(data = newarr,columns=['model','fuel',])\n",
        "xdf"
      ],
      "execution_count": 0,
      "outputs": [
        {
          "output_type": "execute_result",
          "data": {
            "text/html": [
              "<div>\n",
              "<style scoped>\n",
              "    .dataframe tbody tr th:only-of-type {\n",
              "        vertical-align: middle;\n",
              "    }\n",
              "\n",
              "    .dataframe tbody tr th {\n",
              "        vertical-align: top;\n",
              "    }\n",
              "\n",
              "    .dataframe thead th {\n",
              "        text-align: right;\n",
              "    }\n",
              "</style>\n",
              "<table border=\"1\" class=\"dataframe\">\n",
              "  <thead>\n",
              "    <tr style=\"text-align: right;\">\n",
              "      <th></th>\n",
              "      <th>model</th>\n",
              "      <th>fuel</th>\n",
              "    </tr>\n",
              "  </thead>\n",
              "  <tbody>\n",
              "    <tr>\n",
              "      <th>0</th>\n",
              "      <td>0.530292</td>\n",
              "      <td>0.5</td>\n",
              "    </tr>\n",
              "    <tr>\n",
              "      <th>1</th>\n",
              "      <td>0.425778</td>\n",
              "      <td>0.5</td>\n",
              "    </tr>\n",
              "    <tr>\n",
              "      <th>2</th>\n",
              "      <td>0.792904</td>\n",
              "      <td>0.5</td>\n",
              "    </tr>\n",
              "    <tr>\n",
              "      <th>3</th>\n",
              "      <td>0.425778</td>\n",
              "      <td>0.5</td>\n",
              "    </tr>\n",
              "    <tr>\n",
              "      <th>4</th>\n",
              "      <td>0.444847</td>\n",
              "      <td>0.0</td>\n",
              "    </tr>\n",
              "    <tr>\n",
              "      <th>...</th>\n",
              "      <td>...</td>\n",
              "      <td>...</td>\n",
              "    </tr>\n",
              "    <tr>\n",
              "      <th>19996</th>\n",
              "      <td>0.332851</td>\n",
              "      <td>0.0</td>\n",
              "    </tr>\n",
              "    <tr>\n",
              "      <th>19997</th>\n",
              "      <td>0.782525</td>\n",
              "      <td>0.5</td>\n",
              "    </tr>\n",
              "    <tr>\n",
              "      <th>19998</th>\n",
              "      <td>0.536809</td>\n",
              "      <td>0.5</td>\n",
              "    </tr>\n",
              "    <tr>\n",
              "      <th>19999</th>\n",
              "      <td>0.307989</td>\n",
              "      <td>0.5</td>\n",
              "    </tr>\n",
              "    <tr>\n",
              "      <th>20000</th>\n",
              "      <td>0.089790</td>\n",
              "      <td>0.5</td>\n",
              "    </tr>\n",
              "  </tbody>\n",
              "</table>\n",
              "<p>20001 rows × 2 columns</p>\n",
              "</div>"
            ],
            "text/plain": [
              "          model  fuel\n",
              "0      0.530292   0.5\n",
              "1      0.425778   0.5\n",
              "2      0.792904   0.5\n",
              "3      0.425778   0.5\n",
              "4      0.444847   0.0\n",
              "...         ...   ...\n",
              "19996  0.332851   0.0\n",
              "19997  0.782525   0.5\n",
              "19998  0.536809   0.5\n",
              "19999  0.307989   0.5\n",
              "20000  0.089790   0.5\n",
              "\n",
              "[20001 rows x 2 columns]"
            ]
          },
          "metadata": {
            "tags": []
          },
          "execution_count": 127
        }
      ]
    },
    {
      "cell_type": "code",
      "metadata": {
        "id": "8wwJcvtG7Hcc",
        "colab_type": "code",
        "colab": {}
      },
      "source": [
        "#save the data exploration result to csv\n",
        "xdf.head()\n",
        "xdf.to_csv('clusteringmodA.csv')"
      ],
      "execution_count": 0,
      "outputs": []
    },
    {
      "cell_type": "markdown",
      "metadata": {
        "id": "FbjcY1v_39Dt",
        "colab_type": "text"
      },
      "source": [
        "- **elbow method to define the optimal K**\n",
        "\n",
        "from the elbow method below we know that the optimal value of k for our clustering is 7\n",
        "\n"
      ]
    },
    {
      "cell_type": "code",
      "metadata": {
        "id": "CixKEMUX39ZK",
        "colab_type": "code",
        "outputId": "486ddf66-dcd1-4dd8-becf-f2352c1cfe72",
        "colab": {
          "base_uri": "https://localhost:8080/",
          "height": 457
        }
      },
      "source": [
        "import matplotlib.pyplot as plt\n",
        "from sklearn.cluster import KMeans\n",
        "Sum_of_squared_distances = []\n",
        "K = range(1,10)\n",
        "for k in K:\n",
        "    km = KMeans(n_clusters=k)\n",
        "    km = km.fit(xdf)\n",
        "    Sum_of_squared_distances.append(km.inertia_)\n",
        "plt.figure(figsize=(10,7))\n",
        "plt.plot(K, Sum_of_squared_distances, 'bx-')\n",
        "plt.xlabel('k')\n",
        "plt.ylabel('Sum_of_squared_distances')\n",
        "plt.title('Elbow Method For Optimal k')\n",
        "plt.show()"
      ],
      "execution_count": 0,
      "outputs": [
        {
          "output_type": "display_data",
          "data": {
            "image/png": "[encoded data removed]",
            "text/plain": [
              "<Figure size 720x504 with 1 Axes>"
            ]
          },
          "metadata": {
            "tags": [],
            "needs_background": "light"
          }
        }
      ]
    },
    {
      "cell_type": "markdown",
      "metadata": {
        "id": "oxCXFLqaXSkY",
        "colab_type": "text"
      },
      "source": [
        "**Plot The Data** , in this phase we trying to visualize the data that we are going to use as our clustering label.\n",
        "\n",
        "we are using **State** and **Region** as the data that we are going to clusters "
      ]
    },
    {
      "cell_type": "code",
      "metadata": {
        "id": "uVPWN7j5QZrF",
        "colab_type": "code",
        "outputId": "7e504fd3-cbfc-4ed0-fd16-3b81c9422fce",
        "colab": {
          "base_uri": "https://localhost:8080/",
          "height": 264
        }
      },
      "source": [
        "#import the library, and plot the data \n",
        "import matplotlib.pyplot as plt\n",
        "fig = plt.figure()\n",
        "plt.plot(xdf['model'], xdf['fuel'], 'o')\n",
        "plt.show()"
      ],
      "execution_count": 0,
      "outputs": [
        {
          "output_type": "display_data",
          "data": {
            "image/png": "[encoded data removed]",
            "text/plain": [
              "<Figure size 432x288 with 1 Axes>"
            ]
          },
          "metadata": {
            "tags": [],
            "needs_background": "light"
          }
        }
      ]
    },
    {
      "cell_type": "code",
      "metadata": {
        "id": "ExbpXS7oX46D",
        "colab_type": "code",
        "outputId": "908ac813-c4db-4adc-8b47-7c7e99db3bcd",
        "colab": {
          "base_uri": "https://localhost:8080/",
          "height": 141
        }
      },
      "source": [
        "#change our previous dataframe into array\n",
        "#change xdf to newdf\n",
        "#import the numpy library\n",
        "\n",
        "import numpy as np\n",
        "newdf = np.array(xdf)\n",
        "newdf"
      ],
      "execution_count": 0,
      "outputs": [
        {
          "output_type": "execute_result",
          "data": {
            "text/plain": [
              "array([[0.53029206, 0.5       ],\n",
              "       [0.42577842, 0.5       ],\n",
              "       [0.79290369, 0.5       ],\n",
              "       ...,\n",
              "       [0.53680908, 0.5       ],\n",
              "       [0.30798938, 0.5       ],\n",
              "       [0.08979001, 0.5       ]])"
            ]
          },
          "metadata": {
            "tags": []
          },
          "execution_count": 132
        }
      ]
    },
    {
      "cell_type": "markdown",
      "metadata": {
        "id": "VeNfUDCjYnYX",
        "colab_type": "text"
      },
      "source": [
        "**Clustering Process**\n",
        "\n",
        "in this phase we begin to do the clustering process"
      ]
    },
    {
      "cell_type": "code",
      "metadata": {
        "id": "7i-doPupiNWK",
        "colab_type": "code",
        "colab": {}
      },
      "source": [
        "#in this process, we shape the data\n",
        "# we assign 'm' as our number of training example (m is 20001)\n",
        "# we assign n as our number of features (n is 2)\n",
        "m = newdf.shape[0] \n",
        "n = newdf.shape[1] "
      ],
      "execution_count": 0,
      "outputs": []
    },
    {
      "cell_type": "code",
      "metadata": {
        "id": "Ge1_au6HZO0I",
        "colab_type": "code",
        "outputId": "12e4028a-edbc-45e6-e877-5c5c6a56484f",
        "colab": {
          "base_uri": "https://localhost:8080/",
          "height": 34
        }
      },
      "source": [
        "m"
      ],
      "execution_count": 0,
      "outputs": [
        {
          "output_type": "execute_result",
          "data": {
            "text/plain": [
              "20001"
            ]
          },
          "metadata": {
            "tags": []
          },
          "execution_count": 134
        }
      ]
    },
    {
      "cell_type": "code",
      "metadata": {
        "id": "QXTGFD1PZQSp",
        "colab_type": "code",
        "outputId": "83b2b9ba-e917-46b2-ca78-235d9d20ee42",
        "colab": {
          "base_uri": "https://localhost:8080/",
          "height": 34
        }
      },
      "source": [
        "n"
      ],
      "execution_count": 0,
      "outputs": [
        {
          "output_type": "execute_result",
          "data": {
            "text/plain": [
              "2"
            ]
          },
          "metadata": {
            "tags": []
          },
          "execution_count": 136
        }
      ]
    },
    {
      "cell_type": "markdown",
      "metadata": {
        "id": "Rd7ThtYabsJf",
        "colab_type": "text"
      },
      "source": [
        "*   Assign the **K value**"
      ]
    },
    {
      "cell_type": "code",
      "metadata": {
        "id": "57bUlnVlicAN",
        "colab_type": "code",
        "colab": {}
      },
      "source": [
        "K= 7"
      ],
      "execution_count": 0,
      "outputs": []
    },
    {
      "cell_type": "markdown",
      "metadata": {
        "id": "zdjYlJUGb26i",
        "colab_type": "text"
      },
      "source": [
        "*   **Initialize the Centroids** randomly from our data points"
      ]
    },
    {
      "cell_type": "code",
      "metadata": {
        "id": "-OO9saBjnIDm",
        "colab_type": "code",
        "colab": {}
      },
      "source": [
        "Centroids=np.array([]).reshape(n,0)"
      ],
      "execution_count": 0,
      "outputs": []
    },
    {
      "cell_type": "code",
      "metadata": {
        "id": "6ZX-EZiSc4FD",
        "colab_type": "code",
        "outputId": "cc4c833e-d4e6-4fe7-e36f-21156dbccde8",
        "colab": {
          "base_uri": "https://localhost:8080/",
          "height": 34
        }
      },
      "source": [
        "Centroids"
      ],
      "execution_count": 0,
      "outputs": [
        {
          "output_type": "execute_result",
          "data": {
            "text/plain": [
              "array([], shape=(2, 0), dtype=float64)"
            ]
          },
          "metadata": {
            "tags": []
          },
          "execution_count": 139
        }
      ]
    },
    {
      "cell_type": "code",
      "metadata": {
        "id": "YE2l1mVKnNS7",
        "colab_type": "code",
        "colab": {}
      },
      "source": [
        "import random\n",
        "for i in range(K):\n",
        "    rand=random.randint(700,m-1)\n",
        "    Centroids=np.c_[Centroids,newdf[rand]]\n",
        "    Output={}"
      ],
      "execution_count": 0,
      "outputs": []
    },
    {
      "cell_type": "code",
      "metadata": {
        "id": "xROzWZDABdw3",
        "colab_type": "code",
        "outputId": "0710075a-b7e5-468e-e1b3-73d06505b550",
        "colab": {
          "base_uri": "https://localhost:8080/",
          "height": 87
        }
      },
      "source": [
        "Centroids"
      ],
      "execution_count": 0,
      "outputs": [
        {
          "output_type": "execute_result",
          "data": {
            "text/plain": [
              "array([[0.37702148, 0.97031137, 0.81317886, 0.28071446, 0.39898624,\n",
              "        0.37798697, 0.2754043 ],\n",
              "       [0.        , 0.5       , 0.5       , 0.5       , 0.5       ,\n",
              "        0.5       , 0.5       ]])"
            ]
          },
          "metadata": {
            "tags": []
          },
          "execution_count": 141
        }
      ]
    },
    {
      "cell_type": "markdown",
      "metadata": {
        "id": "2K3bRrFoeEDI",
        "colab_type": "text"
      },
      "source": [
        "**Compute the Euclidian Distance** from the centroids and assign the cluster base on the minimal distance"
      ]
    },
    {
      "cell_type": "code",
      "metadata": {
        "id": "6A-ycQ4xn9Wa",
        "colab_type": "code",
        "colab": {}
      },
      "source": [
        "#initialize the euclidian distance\n",
        "EuclideDist=np.array([]).reshape(m,0)\n",
        "for k in range(K):\n",
        "       #compute the euclidian distance (find the minimum distance)\n",
        "       tempDist=np.sum((newdf-Centroids[:,k])**2,axis=1)\n",
        "       EuclideDist=np.c_[EuclideDist,tempDist]\n",
        "#store the  minimum ditance and the index to C\n",
        "C = np.argmin(EuclideDist,axis=1)+1"
      ],
      "execution_count": 0,
      "outputs": []
    },
    {
      "cell_type": "code",
      "metadata": {
        "id": "sPkBLWSoBzk2",
        "colab_type": "code",
        "outputId": "c7767aeb-6f16-414b-8c53-36cc1597d5b8",
        "colab": {
          "base_uri": "https://localhost:8080/",
          "height": 247
        }
      },
      "source": [
        "EuclideDist"
      ],
      "execution_count": 0,
      "outputs": [
        {
          "output_type": "execute_result",
          "data": {
            "text/plain": [
              "array([[2.73491870e-01, 1.93616993e-01, 8.00249399e-02, ...,\n",
              "        1.72412176e-02, 2.31968413e-02, 6.49677715e-02],\n",
              "       [2.52377239e-01, 2.96516131e-01, 1.50079097e-01, ...,\n",
              "        7.17820887e-04, 2.28402322e-03, 2.26123775e-02],\n",
              "       [4.22958013e-01, 3.14734834e-02, 4.11082232e-04, ...,\n",
              "        1.55170958e-01, 1.72155890e-01, 2.67805625e-01],\n",
              "       ...,\n",
              "       [2.75532075e-01, 1.87924238e-01, 7.63802555e-02, ...,\n",
              "        1.89951335e-02, 2.52244625e-02, 6.83324586e-02],\n",
              "       [2.54765431e-01, 4.38670417e-01, 2.55216407e-01, ...,\n",
              "        8.28042893e-03, 4.89966209e-03, 1.06178765e-03],\n",
              "       [3.32501920e-01, 7.75317868e-01, 5.23291426e-01, ...,\n",
              "        9.56023115e-02, 8.30574870e-02, 3.44526643e-02]])"
            ]
          },
          "metadata": {
            "tags": []
          },
          "execution_count": 143
        }
      ]
    },
    {
      "cell_type": "code",
      "metadata": {
        "id": "eUDn7HIhgxaI",
        "colab_type": "code",
        "outputId": "a67b1c28-b577-4c82-cc1b-c74cc1c841e0",
        "colab": {
          "base_uri": "https://localhost:8080/",
          "height": 52
        }
      },
      "source": [
        "tempDist"
      ],
      "execution_count": 0,
      "outputs": [
        {
          "output_type": "execute_result",
          "data": {
            "text/plain": [
              "array([0.06496777, 0.02261238, 0.26780563, ..., 0.06833246, 0.00106179,\n",
              "       0.03445266])"
            ]
          },
          "metadata": {
            "tags": []
          },
          "execution_count": 144
        }
      ]
    },
    {
      "cell_type": "code",
      "metadata": {
        "id": "p_7FXFE8fWjB",
        "colab_type": "code",
        "outputId": "c17f4984-e6ea-4a2f-aad8-698e0cf53574",
        "colab": {
          "base_uri": "https://localhost:8080/",
          "height": 34
        }
      },
      "source": [
        "#anggota centroid awal , dati cluster 1-7 , \n",
        "C"
      ],
      "execution_count": 0,
      "outputs": [
        {
          "output_type": "execute_result",
          "data": {
            "text/plain": [
              "array([5, 5, 3, ..., 5, 4, 7])"
            ]
          },
          "metadata": {
            "tags": []
          },
          "execution_count": 145
        }
      ]
    },
    {
      "cell_type": "code",
      "metadata": {
        "id": "1MK9hji6fZ3x",
        "colab_type": "code",
        "outputId": "57cee2a0-53b8-4f76-9b0a-ee1b6c8837a8",
        "colab": {
          "base_uri": "https://localhost:8080/",
          "height": 247
        }
      },
      "source": [
        "EuclideDist"
      ],
      "execution_count": 0,
      "outputs": [
        {
          "output_type": "execute_result",
          "data": {
            "text/plain": [
              "array([[2.73491870e-01, 1.93616993e-01, 8.00249399e-02, ...,\n",
              "        1.72412176e-02, 2.31968413e-02, 6.49677715e-02],\n",
              "       [2.52377239e-01, 2.96516131e-01, 1.50079097e-01, ...,\n",
              "        7.17820887e-04, 2.28402322e-03, 2.26123775e-02],\n",
              "       [4.22958013e-01, 3.14734834e-02, 4.11082232e-04, ...,\n",
              "        1.55170958e-01, 1.72155890e-01, 2.67805625e-01],\n",
              "       ...,\n",
              "       [2.75532075e-01, 1.87924238e-01, 7.63802555e-02, ...,\n",
              "        1.89951335e-02, 2.52244625e-02, 6.83324586e-02],\n",
              "       [2.54765431e-01, 4.38670417e-01, 2.55216407e-01, ...,\n",
              "        8.28042893e-03, 4.89966209e-03, 1.06178765e-03],\n",
              "       [3.32501920e-01, 7.75317868e-01, 5.23291426e-01, ...,\n",
              "        9.56023115e-02, 8.30574870e-02, 3.44526643e-02]])"
            ]
          },
          "metadata": {
            "tags": []
          },
          "execution_count": 146
        }
      ]
    },
    {
      "cell_type": "markdown",
      "metadata": {
        "id": "6Mkn3FZ-KRkt",
        "colab_type": "text"
      },
      "source": [
        "**Compute the Clusters using K-Means Clustering**"
      ]
    },
    {
      "cell_type": "code",
      "metadata": {
        "id": "w4y1wSZrit4b",
        "colab_type": "code",
        "colab": {}
      },
      "source": [
        "#create the output dictionary A (temporary dictionary)\n",
        "A={}\n",
        "\n",
        "#Regroup the datapoints based on the cluster(K) and index C and store it on A\n",
        "for k in range(K):\n",
        "    A[k+1]=np.array([]).reshape(2,0)\n",
        "for i in range(m):\n",
        "    A[C[i]]=np.c_[A[C[i]],newdf[i]]    \n",
        "for k in range(K):\n",
        "    A[k+1]=A[k+1].T\n",
        "for k in range(K):\n",
        "     #assign the new centroids by compute the mean of clusters\n",
        "     Centroids[:,k]=np.mean(A[k+1],axis=0)"
      ],
      "execution_count": 0,
      "outputs": []
    },
    {
      "cell_type": "code",
      "metadata": {
        "id": "hL76SX93oBwG",
        "colab_type": "code",
        "colab": {}
      },
      "source": [
        "#Repeat the step 2 until its convergence (no data points in moving)\n",
        "n_iter = 7 #assign the iteration value\n",
        "for i in range(n_iter):\n",
        "      EuclideDist=np.array([]).reshape(m,0)\n",
        "      for k in range(K):\n",
        "          tempDist=np.sum((newdf-Centroids[:,k])**2,axis=1)\n",
        "          EuclideDist=np.c_[EuclideDist,tempDist]\n",
        "      C=np.argmin(EuclideDist,axis=1)+1\n",
        "      A={}\n",
        "      for k in range(K):\n",
        "          A[k+1]=np.array([]).reshape(2,0)\n",
        "      for i in range(m):\n",
        "          A[C[i]]=np.c_[A[C[i]],newdf[i]]\n",
        "     \n",
        "      for k in range(K):\n",
        "          A[k+1]=A[k+1].T\n",
        "    \n",
        "      for k in range(K):\n",
        "          Centroids[:,k]=np.mean(A[k+1],axis=0)\n",
        "      Output=A"
      ],
      "execution_count": 0,
      "outputs": []
    },
    {
      "cell_type": "code",
      "metadata": {
        "id": "Xxp-j6E3NWWW",
        "colab_type": "code",
        "outputId": "1be52bed-50f6-4aa4-e7fb-f444a4931a33",
        "colab": {
          "base_uri": "https://localhost:8080/",
          "height": 34
        }
      },
      "source": [
        "#final clusters\n",
        "C"
      ],
      "execution_count": 0,
      "outputs": [
        {
          "output_type": "execute_result",
          "data": {
            "text/plain": [
              "array([5, 6, 3, ..., 5, 4, 7])"
            ]
          },
          "metadata": {
            "tags": []
          },
          "execution_count": 149
        }
      ]
    },
    {
      "cell_type": "markdown",
      "metadata": {
        "id": "8DKP-9gJKbgs",
        "colab_type": "text"
      },
      "source": [
        "**Visualize the Result**"
      ]
    },
    {
      "cell_type": "code",
      "metadata": {
        "id": "nH5PydclrEoT",
        "colab_type": "code",
        "outputId": "421d9292-cdd5-4d67-d88d-5e084224afa0",
        "colab": {
          "base_uri": "https://localhost:8080/",
          "height": 475
        }
      },
      "source": [
        "fig = plt.figure()\n",
        "plt.figure(figsize=(10,7))\n",
        "plt.title('Visualization Before the Clustering')\n",
        "plt.xlabel('model')\n",
        "plt.ylabel('fuel')\n",
        "plt.plot(xdf['model'], xdf['fuel'], 'o')\n",
        "plt.show()"
      ],
      "execution_count": 0,
      "outputs": [
        {
          "output_type": "display_data",
          "data": {
            "text/plain": [
              "<Figure size 432x288 with 0 Axes>"
            ]
          },
          "metadata": {
            "tags": []
          }
        },
        {
          "output_type": "display_data",
          "data": {
            "image/png": "[encoded data removed]",
            "text/plain": [
              "<Figure size 720x504 with 1 Axes>"
            ]
          },
          "metadata": {
            "tags": [],
            "needs_background": "light"
          }
        }
      ]
    },
    {
      "cell_type": "code",
      "metadata": {
        "id": "wQxyDkPCoKH8",
        "colab_type": "code",
        "outputId": "139b03a4-97af-4968-c116-ae53c66efb80",
        "colab": {
          "base_uri": "https://localhost:8080/",
          "height": 457
        }
      },
      "source": [
        "#Visualization after the data being clustered\n",
        "color=['yellow','b','g','k','magenta','c','r']\n",
        "labels=['cluster1','cluster2','cluster3', 'cluster4','cluster5', 'cluster6', 'cluster7']\n",
        "plt.figure(figsize=(10,7))\n",
        "for k in range(K):\n",
        "    plt.scatter(Output[k+1][:,0],Output[k+1][:,1],c=color[k],s=200,label=labels[k])\n",
        "plt.title('Visualization of K-Means Clustering')\n",
        "plt.scatter(Centroids[0,:],Centroids[1,:],s=150,c='red',marker='*',label='centroids')\n",
        "plt.xlabel('model')\n",
        "plt.ylabel('fuel')\n",
        "plt.legend()\n",
        "plt.show()"
      ],
      "execution_count": 0,
      "outputs": [
        {
          "output_type": "display_data",
          "data": {
            "image/png": "[encoded data removed]",
            "text/plain": [
              "<Figure size 720x504 with 1 Axes>"
            ]
          },
          "metadata": {
            "tags": [],
            "needs_background": "light"
          }
        }
      ]
    },
    {
      "cell_type": "markdown",
      "metadata": {
        "id": "kEjRWjuSmg0_",
        "colab_type": "text"
      },
      "source": [
        "**Result of the Centroids**\n",
        "\t\n",
        "1. The first centroid (centroid 0 at cluster 1) at label x = 0.885244 and y = 0.518309\n",
        "2. The second Centroid (centroid 1 at cluster 2) at label x = 0.457366  and y = 0.525652\n",
        "3. The third centroid (centroid 2 at cluster 3) at label x = 0.103518 and y = 0.001359\n",
        "4. The fourth centroid (centroid 3 at cluster 4) at label x = 0.065714  and y = 0.507143\n",
        "5. The fourth centroid (centroid 4 at cluster 5) at label x = 0.264734 and y = 0.505444\n",
        "6. The fourth centroid (centroid 5 at cluster 6) at label x = 0.676353 and y = 0.510696\n",
        "7. The fourth centroid (centroid 6 at cluster 7) at label x = 0.592405  and y = 0.004421"
      ]
    },
    {
      "cell_type": "code",
      "metadata": {
        "id": "AtQnrhlzm3-R",
        "colab_type": "code",
        "outputId": "82466b6f-4b76-45c4-f4bb-ff5ece77f44d",
        "colab": {
          "base_uri": "https://localhost:8080/",
          "height": 107
        }
      },
      "source": [
        "#Assign the centroids point to dataframe\n",
        "Centroids = pd.DataFrame (data= Centroids)\n",
        "Centroids"
      ],
      "execution_count": 0,
      "outputs": [
        {
          "output_type": "execute_result",
          "data": {
            "text/html": [
              "<div>\n",
              "<style scoped>\n",
              "    .dataframe tbody tr th:only-of-type {\n",
              "        vertical-align: middle;\n",
              "    }\n",
              "\n",
              "    .dataframe tbody tr th {\n",
              "        vertical-align: top;\n",
              "    }\n",
              "\n",
              "    .dataframe thead th {\n",
              "        text-align: right;\n",
              "    }\n",
              "</style>\n",
              "<table border=\"1\" class=\"dataframe\">\n",
              "  <thead>\n",
              "    <tr style=\"text-align: right;\">\n",
              "      <th></th>\n",
              "      <th>0</th>\n",
              "      <th>1</th>\n",
              "      <th>2</th>\n",
              "      <th>3</th>\n",
              "      <th>4</th>\n",
              "      <th>5</th>\n",
              "      <th>6</th>\n",
              "    </tr>\n",
              "  </thead>\n",
              "  <tbody>\n",
              "    <tr>\n",
              "      <th>0</th>\n",
              "      <td>0.426516</td>\n",
              "      <td>0.912763</td>\n",
              "      <td>0.726995</td>\n",
              "      <td>0.246850</td>\n",
              "      <td>0.538949</td>\n",
              "      <td>0.401664</td>\n",
              "      <td>0.056505</td>\n",
              "    </tr>\n",
              "    <tr>\n",
              "      <th>1</th>\n",
              "      <td>0.000606</td>\n",
              "      <td>0.512673</td>\n",
              "      <td>0.514787</td>\n",
              "      <td>0.506798</td>\n",
              "      <td>0.543211</td>\n",
              "      <td>0.500000</td>\n",
              "      <td>0.506928</td>\n",
              "    </tr>\n",
              "  </tbody>\n",
              "</table>\n",
              "</div>"
            ],
            "text/plain": [
              "          0         1         2         3         4         5         6\n",
              "0  0.426516  0.912763  0.726995  0.246850  0.538949  0.401664  0.056505\n",
              "1  0.000606  0.512673  0.514787  0.506798  0.543211  0.500000  0.506928"
            ]
          },
          "metadata": {
            "tags": []
          },
          "execution_count": 152
        }
      ]
    },
    {
      "cell_type": "code",
      "metadata": {
        "id": "H34t8wPFaG9Y",
        "colab_type": "code",
        "outputId": "835e15e8-2d2d-4d5f-fa38-e94e15407954",
        "colab": {
          "base_uri": "https://localhost:8080/",
          "height": 406
        }
      },
      "source": [
        "dfnew['clusters'] = C\n",
        "dfnew"
      ],
      "execution_count": 0,
      "outputs": [
        {
          "output_type": "execute_result",
          "data": {
            "text/html": [
              "<div>\n",
              "<style scoped>\n",
              "    .dataframe tbody tr th:only-of-type {\n",
              "        vertical-align: middle;\n",
              "    }\n",
              "\n",
              "    .dataframe tbody tr th {\n",
              "        vertical-align: top;\n",
              "    }\n",
              "\n",
              "    .dataframe thead th {\n",
              "        text-align: right;\n",
              "    }\n",
              "</style>\n",
              "<table border=\"1\" class=\"dataframe\">\n",
              "  <thead>\n",
              "    <tr style=\"text-align: right;\">\n",
              "      <th></th>\n",
              "      <th>model</th>\n",
              "      <th>fuel</th>\n",
              "      <th>clusters</th>\n",
              "    </tr>\n",
              "  </thead>\n",
              "  <tbody>\n",
              "    <tr>\n",
              "      <th>0</th>\n",
              "      <td>2197</td>\n",
              "      <td>2</td>\n",
              "      <td>5</td>\n",
              "    </tr>\n",
              "    <tr>\n",
              "      <th>1</th>\n",
              "      <td>1764</td>\n",
              "      <td>2</td>\n",
              "      <td>6</td>\n",
              "    </tr>\n",
              "    <tr>\n",
              "      <th>2</th>\n",
              "      <td>3285</td>\n",
              "      <td>2</td>\n",
              "      <td>3</td>\n",
              "    </tr>\n",
              "    <tr>\n",
              "      <th>3</th>\n",
              "      <td>1764</td>\n",
              "      <td>2</td>\n",
              "      <td>6</td>\n",
              "    </tr>\n",
              "    <tr>\n",
              "      <th>4</th>\n",
              "      <td>1843</td>\n",
              "      <td>0</td>\n",
              "      <td>1</td>\n",
              "    </tr>\n",
              "    <tr>\n",
              "      <th>...</th>\n",
              "      <td>...</td>\n",
              "      <td>...</td>\n",
              "      <td>...</td>\n",
              "    </tr>\n",
              "    <tr>\n",
              "      <th>19996</th>\n",
              "      <td>1379</td>\n",
              "      <td>0</td>\n",
              "      <td>1</td>\n",
              "    </tr>\n",
              "    <tr>\n",
              "      <th>19997</th>\n",
              "      <td>3242</td>\n",
              "      <td>2</td>\n",
              "      <td>3</td>\n",
              "    </tr>\n",
              "    <tr>\n",
              "      <th>19998</th>\n",
              "      <td>2224</td>\n",
              "      <td>2</td>\n",
              "      <td>5</td>\n",
              "    </tr>\n",
              "    <tr>\n",
              "      <th>19999</th>\n",
              "      <td>1276</td>\n",
              "      <td>2</td>\n",
              "      <td>4</td>\n",
              "    </tr>\n",
              "    <tr>\n",
              "      <th>20000</th>\n",
              "      <td>372</td>\n",
              "      <td>2</td>\n",
              "      <td>7</td>\n",
              "    </tr>\n",
              "  </tbody>\n",
              "</table>\n",
              "<p>20001 rows × 3 columns</p>\n",
              "</div>"
            ],
            "text/plain": [
              "       model  fuel  clusters\n",
              "0       2197     2         5\n",
              "1       1764     2         6\n",
              "2       3285     2         3\n",
              "3       1764     2         6\n",
              "4       1843     0         1\n",
              "...      ...   ...       ...\n",
              "19996   1379     0         1\n",
              "19997   3242     2         3\n",
              "19998   2224     2         5\n",
              "19999   1276     2         4\n",
              "20000    372     2         7\n",
              "\n",
              "[20001 rows x 3 columns]"
            ]
          },
          "metadata": {
            "tags": []
          },
          "execution_count": 153
        }
      ]
    },
    {
      "cell_type": "markdown",
      "metadata": {
        "id": "DKSreayZn3qa",
        "colab_type": "text"
      },
      "source": [
        "**Result of the Clusters**\n",
        "\n",
        "in this phase we assign all the member of clusters to a dataframe\n",
        "- column 0 of the data frame means that  label x (model points) and column 1 means that label y (fuel points)\n",
        "\n",
        "**Result**\n",
        "- cluster 1  has 4465 of data member\n",
        "- cluster 2 has 4561 of data member\n",
        "- cluster 3 has 552 of data member\n",
        "- cluster 4 has 1855 of data  member\n",
        "- cluster 5 has 3674 of data member\n",
        "- cluster 6 has 3763 of data member\n",
        "- cluster 7 has 1131 of data member\n",
        "\n",
        "so, the biggest cluster is cluster 2, since it has biggest data member than other clusters. the sum value of cluster 1 and to also almost have similar value."
      ]
    },
    {
      "cell_type": "code",
      "metadata": {
        "id": "-sXpX3dnoBxh",
        "colab_type": "code",
        "outputId": "03330c1d-0f56-4a21-fde4-8b8f186f5bac",
        "colab": {
          "base_uri": "https://localhost:8080/",
          "height": 406
        }
      },
      "source": [
        "# assign the value data points that member of cluster 1 into dataframe\n",
        "Cluster1 = pd.DataFrame(data = Output[1])\n",
        "Cluster1"
      ],
      "execution_count": 0,
      "outputs": [
        {
          "output_type": "execute_result",
          "data": {
            "text/html": [
              "<div>\n",
              "<style scoped>\n",
              "    .dataframe tbody tr th:only-of-type {\n",
              "        vertical-align: middle;\n",
              "    }\n",
              "\n",
              "    .dataframe tbody tr th {\n",
              "        vertical-align: top;\n",
              "    }\n",
              "\n",
              "    .dataframe thead th {\n",
              "        text-align: right;\n",
              "    }\n",
              "</style>\n",
              "<table border=\"1\" class=\"dataframe\">\n",
              "  <thead>\n",
              "    <tr style=\"text-align: right;\">\n",
              "      <th></th>\n",
              "      <th>0</th>\n",
              "      <th>1</th>\n",
              "    </tr>\n",
              "  </thead>\n",
              "  <tbody>\n",
              "    <tr>\n",
              "      <th>0</th>\n",
              "      <td>0.444847</td>\n",
              "      <td>0.0</td>\n",
              "    </tr>\n",
              "    <tr>\n",
              "      <th>1</th>\n",
              "      <td>0.439054</td>\n",
              "      <td>0.0</td>\n",
              "    </tr>\n",
              "    <tr>\n",
              "      <th>2</th>\n",
              "      <td>0.425778</td>\n",
              "      <td>0.0</td>\n",
              "    </tr>\n",
              "    <tr>\n",
              "      <th>3</th>\n",
              "      <td>0.425778</td>\n",
              "      <td>0.0</td>\n",
              "    </tr>\n",
              "    <tr>\n",
              "      <th>4</th>\n",
              "      <td>0.040068</td>\n",
              "      <td>0.0</td>\n",
              "    </tr>\n",
              "    <tr>\n",
              "      <th>...</th>\n",
              "      <td>...</td>\n",
              "      <td>...</td>\n",
              "    </tr>\n",
              "    <tr>\n",
              "      <th>1646</th>\n",
              "      <td>0.808593</td>\n",
              "      <td>0.0</td>\n",
              "    </tr>\n",
              "    <tr>\n",
              "      <th>1647</th>\n",
              "      <td>0.040068</td>\n",
              "      <td>0.0</td>\n",
              "    </tr>\n",
              "    <tr>\n",
              "      <th>1648</th>\n",
              "      <td>0.472604</td>\n",
              "      <td>0.0</td>\n",
              "    </tr>\n",
              "    <tr>\n",
              "      <th>1649</th>\n",
              "      <td>0.829592</td>\n",
              "      <td>0.0</td>\n",
              "    </tr>\n",
              "    <tr>\n",
              "      <th>1650</th>\n",
              "      <td>0.332851</td>\n",
              "      <td>0.0</td>\n",
              "    </tr>\n",
              "  </tbody>\n",
              "</table>\n",
              "<p>1651 rows × 2 columns</p>\n",
              "</div>"
            ],
            "text/plain": [
              "             0    1\n",
              "0     0.444847  0.0\n",
              "1     0.439054  0.0\n",
              "2     0.425778  0.0\n",
              "3     0.425778  0.0\n",
              "4     0.040068  0.0\n",
              "...        ...  ...\n",
              "1646  0.808593  0.0\n",
              "1647  0.040068  0.0\n",
              "1648  0.472604  0.0\n",
              "1649  0.829592  0.0\n",
              "1650  0.332851  0.0\n",
              "\n",
              "[1651 rows x 2 columns]"
            ]
          },
          "metadata": {
            "tags": []
          },
          "execution_count": 154
        }
      ]
    },
    {
      "cell_type": "code",
      "metadata": {
        "id": "_pm7xCD8oC3I",
        "colab_type": "code",
        "outputId": "3fdfb1d4-be3c-4ff4-c3a5-bda8c0211505",
        "colab": {
          "base_uri": "https://localhost:8080/",
          "height": 406
        }
      },
      "source": [
        "# assign the value data points that member of cluster 2 into dataframe\n",
        "Cluster2 = pd.DataFrame(data = Output[2])\n",
        "Cluster2"
      ],
      "execution_count": 0,
      "outputs": [
        {
          "output_type": "execute_result",
          "data": {
            "text/html": [
              "<div>\n",
              "<style scoped>\n",
              "    .dataframe tbody tr th:only-of-type {\n",
              "        vertical-align: middle;\n",
              "    }\n",
              "\n",
              "    .dataframe tbody tr th {\n",
              "        vertical-align: top;\n",
              "    }\n",
              "\n",
              "    .dataframe thead th {\n",
              "        text-align: right;\n",
              "    }\n",
              "</style>\n",
              "<table border=\"1\" class=\"dataframe\">\n",
              "  <thead>\n",
              "    <tr style=\"text-align: right;\">\n",
              "      <th></th>\n",
              "      <th>0</th>\n",
              "      <th>1</th>\n",
              "    </tr>\n",
              "  </thead>\n",
              "  <tbody>\n",
              "    <tr>\n",
              "      <th>0</th>\n",
              "      <td>0.992035</td>\n",
              "      <td>1.00</td>\n",
              "    </tr>\n",
              "    <tr>\n",
              "      <th>1</th>\n",
              "      <td>0.931451</td>\n",
              "      <td>0.50</td>\n",
              "    </tr>\n",
              "    <tr>\n",
              "      <th>2</th>\n",
              "      <td>0.960657</td>\n",
              "      <td>0.50</td>\n",
              "    </tr>\n",
              "    <tr>\n",
              "      <th>3</th>\n",
              "      <td>0.851074</td>\n",
              "      <td>0.25</td>\n",
              "    </tr>\n",
              "    <tr>\n",
              "      <th>4</th>\n",
              "      <td>0.931451</td>\n",
              "      <td>0.50</td>\n",
              "    </tr>\n",
              "    <tr>\n",
              "      <th>...</th>\n",
              "      <td>...</td>\n",
              "      <td>...</td>\n",
              "    </tr>\n",
              "    <tr>\n",
              "      <th>3388</th>\n",
              "      <td>0.964760</td>\n",
              "      <td>0.50</td>\n",
              "    </tr>\n",
              "    <tr>\n",
              "      <th>3389</th>\n",
              "      <td>0.883659</td>\n",
              "      <td>0.50</td>\n",
              "    </tr>\n",
              "    <tr>\n",
              "      <th>3390</th>\n",
              "      <td>0.960898</td>\n",
              "      <td>0.50</td>\n",
              "    </tr>\n",
              "    <tr>\n",
              "      <th>3391</th>\n",
              "      <td>0.996138</td>\n",
              "      <td>0.50</td>\n",
              "    </tr>\n",
              "    <tr>\n",
              "      <th>3392</th>\n",
              "      <td>0.967656</td>\n",
              "      <td>0.50</td>\n",
              "    </tr>\n",
              "  </tbody>\n",
              "</table>\n",
              "<p>3393 rows × 2 columns</p>\n",
              "</div>"
            ],
            "text/plain": [
              "             0     1\n",
              "0     0.992035  1.00\n",
              "1     0.931451  0.50\n",
              "2     0.960657  0.50\n",
              "3     0.851074  0.25\n",
              "4     0.931451  0.50\n",
              "...        ...   ...\n",
              "3388  0.964760  0.50\n",
              "3389  0.883659  0.50\n",
              "3390  0.960898  0.50\n",
              "3391  0.996138  0.50\n",
              "3392  0.967656  0.50\n",
              "\n",
              "[3393 rows x 2 columns]"
            ]
          },
          "metadata": {
            "tags": []
          },
          "execution_count": 155
        }
      ]
    },
    {
      "cell_type": "code",
      "metadata": {
        "id": "M2pLfH32oFsS",
        "colab_type": "code",
        "outputId": "94e59fdd-8d6a-4665-cb37-01f3194fedd8",
        "colab": {
          "base_uri": "https://localhost:8080/",
          "height": 406
        }
      },
      "source": [
        "# assign the value data points that member of cluster 3 into dataframe\n",
        "Cluster3 = pd.DataFrame(data = Output[3])\n",
        "Cluster3\n"
      ],
      "execution_count": 0,
      "outputs": [
        {
          "output_type": "execute_result",
          "data": {
            "text/html": [
              "<div>\n",
              "<style scoped>\n",
              "    .dataframe tbody tr th:only-of-type {\n",
              "        vertical-align: middle;\n",
              "    }\n",
              "\n",
              "    .dataframe tbody tr th {\n",
              "        vertical-align: top;\n",
              "    }\n",
              "\n",
              "    .dataframe thead th {\n",
              "        text-align: right;\n",
              "    }\n",
              "</style>\n",
              "<table border=\"1\" class=\"dataframe\">\n",
              "  <thead>\n",
              "    <tr style=\"text-align: right;\">\n",
              "      <th></th>\n",
              "      <th>0</th>\n",
              "      <th>1</th>\n",
              "    </tr>\n",
              "  </thead>\n",
              "  <tbody>\n",
              "    <tr>\n",
              "      <th>0</th>\n",
              "      <td>0.792904</td>\n",
              "      <td>0.5</td>\n",
              "    </tr>\n",
              "    <tr>\n",
              "      <th>1</th>\n",
              "      <td>0.792662</td>\n",
              "      <td>0.5</td>\n",
              "    </tr>\n",
              "    <tr>\n",
              "      <th>2</th>\n",
              "      <td>0.792662</td>\n",
              "      <td>0.5</td>\n",
              "    </tr>\n",
              "    <tr>\n",
              "      <th>3</th>\n",
              "      <td>0.812696</td>\n",
              "      <td>0.5</td>\n",
              "    </tr>\n",
              "    <tr>\n",
              "      <th>4</th>\n",
              "      <td>0.759594</td>\n",
              "      <td>0.5</td>\n",
              "    </tr>\n",
              "    <tr>\n",
              "      <th>...</th>\n",
              "      <td>...</td>\n",
              "      <td>...</td>\n",
              "    </tr>\n",
              "    <tr>\n",
              "      <th>3985</th>\n",
              "      <td>0.818489</td>\n",
              "      <td>0.5</td>\n",
              "    </tr>\n",
              "    <tr>\n",
              "      <th>3986</th>\n",
              "      <td>0.818972</td>\n",
              "      <td>0.5</td>\n",
              "    </tr>\n",
              "    <tr>\n",
              "      <th>3987</th>\n",
              "      <td>0.750422</td>\n",
              "      <td>0.5</td>\n",
              "    </tr>\n",
              "    <tr>\n",
              "      <th>3988</th>\n",
              "      <td>0.651219</td>\n",
              "      <td>0.5</td>\n",
              "    </tr>\n",
              "    <tr>\n",
              "      <th>3989</th>\n",
              "      <td>0.782525</td>\n",
              "      <td>0.5</td>\n",
              "    </tr>\n",
              "  </tbody>\n",
              "</table>\n",
              "<p>3990 rows × 2 columns</p>\n",
              "</div>"
            ],
            "text/plain": [
              "             0    1\n",
              "0     0.792904  0.5\n",
              "1     0.792662  0.5\n",
              "2     0.792662  0.5\n",
              "3     0.812696  0.5\n",
              "4     0.759594  0.5\n",
              "...        ...  ...\n",
              "3985  0.818489  0.5\n",
              "3986  0.818972  0.5\n",
              "3987  0.750422  0.5\n",
              "3988  0.651219  0.5\n",
              "3989  0.782525  0.5\n",
              "\n",
              "[3990 rows x 2 columns]"
            ]
          },
          "metadata": {
            "tags": []
          },
          "execution_count": 156
        }
      ]
    },
    {
      "cell_type": "code",
      "metadata": {
        "id": "wmiPC-ahoI0g",
        "colab_type": "code",
        "outputId": "3546dfb5-1a99-48ef-a35d-7a2351f59cef",
        "colab": {
          "base_uri": "https://localhost:8080/",
          "height": 406
        }
      },
      "source": [
        "# assign the value data points that member of cluster 4 into dataframe\n",
        "Cluster4 = pd.DataFrame(data = Output[4])\n",
        "Cluster4"
      ],
      "execution_count": 0,
      "outputs": [
        {
          "output_type": "execute_result",
          "data": {
            "text/html": [
              "<div>\n",
              "<style scoped>\n",
              "    .dataframe tbody tr th:only-of-type {\n",
              "        vertical-align: middle;\n",
              "    }\n",
              "\n",
              "    .dataframe tbody tr th {\n",
              "        vertical-align: top;\n",
              "    }\n",
              "\n",
              "    .dataframe thead th {\n",
              "        text-align: right;\n",
              "    }\n",
              "</style>\n",
              "<table border=\"1\" class=\"dataframe\">\n",
              "  <thead>\n",
              "    <tr style=\"text-align: right;\">\n",
              "      <th></th>\n",
              "      <th>0</th>\n",
              "      <th>1</th>\n",
              "    </tr>\n",
              "  </thead>\n",
              "  <tbody>\n",
              "    <tr>\n",
              "      <th>0</th>\n",
              "      <td>0.280714</td>\n",
              "      <td>0.5</td>\n",
              "    </tr>\n",
              "    <tr>\n",
              "      <th>1</th>\n",
              "      <td>0.280714</td>\n",
              "      <td>0.5</td>\n",
              "    </tr>\n",
              "    <tr>\n",
              "      <th>2</th>\n",
              "      <td>0.291576</td>\n",
              "      <td>0.5</td>\n",
              "    </tr>\n",
              "    <tr>\n",
              "      <th>3</th>\n",
              "      <td>0.203476</td>\n",
              "      <td>0.5</td>\n",
              "    </tr>\n",
              "    <tr>\n",
              "      <th>4</th>\n",
              "      <td>0.172098</td>\n",
              "      <td>0.5</td>\n",
              "    </tr>\n",
              "    <tr>\n",
              "      <th>...</th>\n",
              "      <td>...</td>\n",
              "      <td>...</td>\n",
              "    </tr>\n",
              "    <tr>\n",
              "      <th>3305</th>\n",
              "      <td>0.307989</td>\n",
              "      <td>0.5</td>\n",
              "    </tr>\n",
              "    <tr>\n",
              "      <th>3306</th>\n",
              "      <td>0.321989</td>\n",
              "      <td>0.5</td>\n",
              "    </tr>\n",
              "    <tr>\n",
              "      <th>3307</th>\n",
              "      <td>0.307989</td>\n",
              "      <td>0.5</td>\n",
              "    </tr>\n",
              "    <tr>\n",
              "      <th>3308</th>\n",
              "      <td>0.306541</td>\n",
              "      <td>0.5</td>\n",
              "    </tr>\n",
              "    <tr>\n",
              "      <th>3309</th>\n",
              "      <td>0.307989</td>\n",
              "      <td>0.5</td>\n",
              "    </tr>\n",
              "  </tbody>\n",
              "</table>\n",
              "<p>3310 rows × 2 columns</p>\n",
              "</div>"
            ],
            "text/plain": [
              "             0    1\n",
              "0     0.280714  0.5\n",
              "1     0.280714  0.5\n",
              "2     0.291576  0.5\n",
              "3     0.203476  0.5\n",
              "4     0.172098  0.5\n",
              "...        ...  ...\n",
              "3305  0.307989  0.5\n",
              "3306  0.321989  0.5\n",
              "3307  0.307989  0.5\n",
              "3308  0.306541  0.5\n",
              "3309  0.307989  0.5\n",
              "\n",
              "[3310 rows x 2 columns]"
            ]
          },
          "metadata": {
            "tags": []
          },
          "execution_count": 157
        }
      ]
    },
    {
      "cell_type": "code",
      "metadata": {
        "id": "sBCwAeiFoLCx",
        "colab_type": "code",
        "outputId": "bc6f8155-afa0-4b53-9200-d04a517d051d",
        "colab": {
          "base_uri": "https://localhost:8080/",
          "height": 406
        }
      },
      "source": [
        "# assign the value data points that member of cluster 5 into dataframe\n",
        "Cluster5 = pd.DataFrame(data = Output[5])\n",
        "Cluster5"
      ],
      "execution_count": 0,
      "outputs": [
        {
          "output_type": "execute_result",
          "data": {
            "text/html": [
              "<div>\n",
              "<style scoped>\n",
              "    .dataframe tbody tr th:only-of-type {\n",
              "        vertical-align: middle;\n",
              "    }\n",
              "\n",
              "    .dataframe tbody tr th {\n",
              "        vertical-align: top;\n",
              "    }\n",
              "\n",
              "    .dataframe thead th {\n",
              "        text-align: right;\n",
              "    }\n",
              "</style>\n",
              "<table border=\"1\" class=\"dataframe\">\n",
              "  <thead>\n",
              "    <tr style=\"text-align: right;\">\n",
              "      <th></th>\n",
              "      <th>0</th>\n",
              "      <th>1</th>\n",
              "    </tr>\n",
              "  </thead>\n",
              "  <tbody>\n",
              "    <tr>\n",
              "      <th>0</th>\n",
              "      <td>0.530292</td>\n",
              "      <td>0.5</td>\n",
              "    </tr>\n",
              "    <tr>\n",
              "      <th>1</th>\n",
              "      <td>0.555636</td>\n",
              "      <td>0.5</td>\n",
              "    </tr>\n",
              "    <tr>\n",
              "      <th>2</th>\n",
              "      <td>0.555636</td>\n",
              "      <td>0.5</td>\n",
              "    </tr>\n",
              "    <tr>\n",
              "      <th>3</th>\n",
              "      <td>0.555636</td>\n",
              "      <td>0.5</td>\n",
              "    </tr>\n",
              "    <tr>\n",
              "      <th>4</th>\n",
              "      <td>0.532464</td>\n",
              "      <td>0.5</td>\n",
              "    </tr>\n",
              "    <tr>\n",
              "      <th>...</th>\n",
              "      <td>...</td>\n",
              "      <td>...</td>\n",
              "    </tr>\n",
              "    <tr>\n",
              "      <th>2882</th>\n",
              "      <td>0.548636</td>\n",
              "      <td>0.5</td>\n",
              "    </tr>\n",
              "    <tr>\n",
              "      <th>2883</th>\n",
              "      <td>0.537050</td>\n",
              "      <td>0.5</td>\n",
              "    </tr>\n",
              "    <tr>\n",
              "      <th>2884</th>\n",
              "      <td>0.425778</td>\n",
              "      <td>1.0</td>\n",
              "    </tr>\n",
              "    <tr>\n",
              "      <th>2885</th>\n",
              "      <td>0.538016</td>\n",
              "      <td>0.5</td>\n",
              "    </tr>\n",
              "    <tr>\n",
              "      <th>2886</th>\n",
              "      <td>0.536809</td>\n",
              "      <td>0.5</td>\n",
              "    </tr>\n",
              "  </tbody>\n",
              "</table>\n",
              "<p>2887 rows × 2 columns</p>\n",
              "</div>"
            ],
            "text/plain": [
              "             0    1\n",
              "0     0.530292  0.5\n",
              "1     0.555636  0.5\n",
              "2     0.555636  0.5\n",
              "3     0.555636  0.5\n",
              "4     0.532464  0.5\n",
              "...        ...  ...\n",
              "2882  0.548636  0.5\n",
              "2883  0.537050  0.5\n",
              "2884  0.425778  1.0\n",
              "2885  0.538016  0.5\n",
              "2886  0.536809  0.5\n",
              "\n",
              "[2887 rows x 2 columns]"
            ]
          },
          "metadata": {
            "tags": []
          },
          "execution_count": 158
        }
      ]
    },
    {
      "cell_type": "code",
      "metadata": {
        "id": "EJTGBaI-oPmD",
        "colab_type": "code",
        "outputId": "a7efa798-3096-405f-8b05-8e815cbe8046",
        "colab": {
          "base_uri": "https://localhost:8080/",
          "height": 406
        }
      },
      "source": [
        "# assign the value data points that member of cluster 6  into dataframe\n",
        "Cluster6 = pd.DataFrame(data = Output[6])\n",
        "Cluster6"
      ],
      "execution_count": 0,
      "outputs": [
        {
          "output_type": "execute_result",
          "data": {
            "text/html": [
              "<div>\n",
              "<style scoped>\n",
              "    .dataframe tbody tr th:only-of-type {\n",
              "        vertical-align: middle;\n",
              "    }\n",
              "\n",
              "    .dataframe tbody tr th {\n",
              "        vertical-align: top;\n",
              "    }\n",
              "\n",
              "    .dataframe thead th {\n",
              "        text-align: right;\n",
              "    }\n",
              "</style>\n",
              "<table border=\"1\" class=\"dataframe\">\n",
              "  <thead>\n",
              "    <tr style=\"text-align: right;\">\n",
              "      <th></th>\n",
              "      <th>0</th>\n",
              "      <th>1</th>\n",
              "    </tr>\n",
              "  </thead>\n",
              "  <tbody>\n",
              "    <tr>\n",
              "      <th>0</th>\n",
              "      <td>0.425778</td>\n",
              "      <td>0.5</td>\n",
              "    </tr>\n",
              "    <tr>\n",
              "      <th>1</th>\n",
              "      <td>0.425778</td>\n",
              "      <td>0.5</td>\n",
              "    </tr>\n",
              "    <tr>\n",
              "      <th>2</th>\n",
              "      <td>0.425778</td>\n",
              "      <td>0.5</td>\n",
              "    </tr>\n",
              "    <tr>\n",
              "      <th>3</th>\n",
              "      <td>0.433985</td>\n",
              "      <td>0.5</td>\n",
              "    </tr>\n",
              "    <tr>\n",
              "      <th>4</th>\n",
              "      <td>0.433985</td>\n",
              "      <td>0.5</td>\n",
              "    </tr>\n",
              "    <tr>\n",
              "      <th>...</th>\n",
              "      <td>...</td>\n",
              "      <td>...</td>\n",
              "    </tr>\n",
              "    <tr>\n",
              "      <th>3069</th>\n",
              "      <td>0.377987</td>\n",
              "      <td>0.5</td>\n",
              "    </tr>\n",
              "    <tr>\n",
              "      <th>3070</th>\n",
              "      <td>0.432295</td>\n",
              "      <td>0.5</td>\n",
              "    </tr>\n",
              "    <tr>\n",
              "      <th>3071</th>\n",
              "      <td>0.416848</td>\n",
              "      <td>0.5</td>\n",
              "    </tr>\n",
              "    <tr>\n",
              "      <th>3072</th>\n",
              "      <td>0.389573</td>\n",
              "      <td>0.5</td>\n",
              "    </tr>\n",
              "    <tr>\n",
              "      <th>3073</th>\n",
              "      <td>0.451364</td>\n",
              "      <td>0.5</td>\n",
              "    </tr>\n",
              "  </tbody>\n",
              "</table>\n",
              "<p>3074 rows × 2 columns</p>\n",
              "</div>"
            ],
            "text/plain": [
              "             0    1\n",
              "0     0.425778  0.5\n",
              "1     0.425778  0.5\n",
              "2     0.425778  0.5\n",
              "3     0.433985  0.5\n",
              "4     0.433985  0.5\n",
              "...        ...  ...\n",
              "3069  0.377987  0.5\n",
              "3070  0.432295  0.5\n",
              "3071  0.416848  0.5\n",
              "3072  0.389573  0.5\n",
              "3073  0.451364  0.5\n",
              "\n",
              "[3074 rows x 2 columns]"
            ]
          },
          "metadata": {
            "tags": []
          },
          "execution_count": 159
        }
      ]
    },
    {
      "cell_type": "code",
      "metadata": {
        "id": "C0lJdGuhoV7I",
        "colab_type": "code",
        "outputId": "d23d1fe9-7799-49b2-9aa5-39e073156929",
        "colab": {
          "base_uri": "https://localhost:8080/",
          "height": 406
        }
      },
      "source": [
        "# assign the value data points that member of cluster 7 into dataframe\n",
        "Cluster7 = pd.DataFrame(data = Output[7])\n",
        "Cluster7"
      ],
      "execution_count": 0,
      "outputs": [
        {
          "output_type": "execute_result",
          "data": {
            "text/html": [
              "<div>\n",
              "<style scoped>\n",
              "    .dataframe tbody tr th:only-of-type {\n",
              "        vertical-align: middle;\n",
              "    }\n",
              "\n",
              "    .dataframe tbody tr th {\n",
              "        vertical-align: top;\n",
              "    }\n",
              "\n",
              "    .dataframe thead th {\n",
              "        text-align: right;\n",
              "    }\n",
              "</style>\n",
              "<table border=\"1\" class=\"dataframe\">\n",
              "  <thead>\n",
              "    <tr style=\"text-align: right;\">\n",
              "      <th></th>\n",
              "      <th>0</th>\n",
              "      <th>1</th>\n",
              "    </tr>\n",
              "  </thead>\n",
              "  <tbody>\n",
              "    <tr>\n",
              "      <th>0</th>\n",
              "      <td>0.004103</td>\n",
              "      <td>0.5</td>\n",
              "    </tr>\n",
              "    <tr>\n",
              "      <th>1</th>\n",
              "      <td>0.004103</td>\n",
              "      <td>0.5</td>\n",
              "    </tr>\n",
              "    <tr>\n",
              "      <th>2</th>\n",
              "      <td>0.051895</td>\n",
              "      <td>0.5</td>\n",
              "    </tr>\n",
              "    <tr>\n",
              "      <th>3</th>\n",
              "      <td>0.050447</td>\n",
              "      <td>0.5</td>\n",
              "    </tr>\n",
              "    <tr>\n",
              "      <th>4</th>\n",
              "      <td>0.004103</td>\n",
              "      <td>0.5</td>\n",
              "    </tr>\n",
              "    <tr>\n",
              "      <th>...</th>\n",
              "      <td>...</td>\n",
              "      <td>...</td>\n",
              "    </tr>\n",
              "    <tr>\n",
              "      <th>1691</th>\n",
              "      <td>0.010138</td>\n",
              "      <td>0.5</td>\n",
              "    </tr>\n",
              "    <tr>\n",
              "      <th>1692</th>\n",
              "      <td>0.041516</td>\n",
              "      <td>0.5</td>\n",
              "    </tr>\n",
              "    <tr>\n",
              "      <th>1693</th>\n",
              "      <td>0.029930</td>\n",
              "      <td>0.5</td>\n",
              "    </tr>\n",
              "    <tr>\n",
              "      <th>1694</th>\n",
              "      <td>0.070239</td>\n",
              "      <td>0.5</td>\n",
              "    </tr>\n",
              "    <tr>\n",
              "      <th>1695</th>\n",
              "      <td>0.089790</td>\n",
              "      <td>0.5</td>\n",
              "    </tr>\n",
              "  </tbody>\n",
              "</table>\n",
              "<p>1696 rows × 2 columns</p>\n",
              "</div>"
            ],
            "text/plain": [
              "             0    1\n",
              "0     0.004103  0.5\n",
              "1     0.004103  0.5\n",
              "2     0.051895  0.5\n",
              "3     0.050447  0.5\n",
              "4     0.004103  0.5\n",
              "...        ...  ...\n",
              "1691  0.010138  0.5\n",
              "1692  0.041516  0.5\n",
              "1693  0.029930  0.5\n",
              "1694  0.070239  0.5\n",
              "1695  0.089790  0.5\n",
              "\n",
              "[1696 rows x 2 columns]"
            ]
          },
          "metadata": {
            "tags": []
          },
          "execution_count": 160
        }
      ]
    },
    {
      "cell_type": "code",
      "metadata": {
        "id": "S0oMajR4OYXf",
        "colab_type": "code",
        "outputId": "1925dafc-8ed4-40ee-92f3-f2eecf9ffb91",
        "colab": {
          "base_uri": "https://localhost:8080/",
          "height": 406
        }
      },
      "source": [
        "#clustered dataframe\n",
        "dfnew['clusters'] = C\n",
        "dfnew"
      ],
      "execution_count": 0,
      "outputs": [
        {
          "output_type": "execute_result",
          "data": {
            "text/html": [
              "<div>\n",
              "<style scoped>\n",
              "    .dataframe tbody tr th:only-of-type {\n",
              "        vertical-align: middle;\n",
              "    }\n",
              "\n",
              "    .dataframe tbody tr th {\n",
              "        vertical-align: top;\n",
              "    }\n",
              "\n",
              "    .dataframe thead th {\n",
              "        text-align: right;\n",
              "    }\n",
              "</style>\n",
              "<table border=\"1\" class=\"dataframe\">\n",
              "  <thead>\n",
              "    <tr style=\"text-align: right;\">\n",
              "      <th></th>\n",
              "      <th>model</th>\n",
              "      <th>fuel</th>\n",
              "      <th>clusters</th>\n",
              "    </tr>\n",
              "  </thead>\n",
              "  <tbody>\n",
              "    <tr>\n",
              "      <th>0</th>\n",
              "      <td>2197</td>\n",
              "      <td>2</td>\n",
              "      <td>5</td>\n",
              "    </tr>\n",
              "    <tr>\n",
              "      <th>1</th>\n",
              "      <td>1764</td>\n",
              "      <td>2</td>\n",
              "      <td>6</td>\n",
              "    </tr>\n",
              "    <tr>\n",
              "      <th>2</th>\n",
              "      <td>3285</td>\n",
              "      <td>2</td>\n",
              "      <td>3</td>\n",
              "    </tr>\n",
              "    <tr>\n",
              "      <th>3</th>\n",
              "      <td>1764</td>\n",
              "      <td>2</td>\n",
              "      <td>6</td>\n",
              "    </tr>\n",
              "    <tr>\n",
              "      <th>4</th>\n",
              "      <td>1843</td>\n",
              "      <td>0</td>\n",
              "      <td>1</td>\n",
              "    </tr>\n",
              "    <tr>\n",
              "      <th>...</th>\n",
              "      <td>...</td>\n",
              "      <td>...</td>\n",
              "      <td>...</td>\n",
              "    </tr>\n",
              "    <tr>\n",
              "      <th>19996</th>\n",
              "      <td>1379</td>\n",
              "      <td>0</td>\n",
              "      <td>1</td>\n",
              "    </tr>\n",
              "    <tr>\n",
              "      <th>19997</th>\n",
              "      <td>3242</td>\n",
              "      <td>2</td>\n",
              "      <td>3</td>\n",
              "    </tr>\n",
              "    <tr>\n",
              "      <th>19998</th>\n",
              "      <td>2224</td>\n",
              "      <td>2</td>\n",
              "      <td>5</td>\n",
              "    </tr>\n",
              "    <tr>\n",
              "      <th>19999</th>\n",
              "      <td>1276</td>\n",
              "      <td>2</td>\n",
              "      <td>4</td>\n",
              "    </tr>\n",
              "    <tr>\n",
              "      <th>20000</th>\n",
              "      <td>372</td>\n",
              "      <td>2</td>\n",
              "      <td>7</td>\n",
              "    </tr>\n",
              "  </tbody>\n",
              "</table>\n",
              "<p>20001 rows × 3 columns</p>\n",
              "</div>"
            ],
            "text/plain": [
              "       model  fuel  clusters\n",
              "0       2197     2         5\n",
              "1       1764     2         6\n",
              "2       3285     2         3\n",
              "3       1764     2         6\n",
              "4       1843     0         1\n",
              "...      ...   ...       ...\n",
              "19996   1379     0         1\n",
              "19997   3242     2         3\n",
              "19998   2224     2         5\n",
              "19999   1276     2         4\n",
              "20000    372     2         7\n",
              "\n",
              "[20001 rows x 3 columns]"
            ]
          },
          "metadata": {
            "tags": []
          },
          "execution_count": 161
        }
      ]
    },
    {
      "cell_type": "code",
      "metadata": {
        "id": "ApCLQbzYOolD",
        "colab_type": "code",
        "outputId": "f6b6c1a3-0de9-4465-80c2-09cd1a572cd3",
        "colab": {
          "base_uri": "https://localhost:8080/",
          "height": 406
        }
      },
      "source": [
        "df"
      ],
      "execution_count": 0,
      "outputs": [
        {
          "output_type": "execute_result",
          "data": {
            "text/html": [
              "<div>\n",
              "<style scoped>\n",
              "    .dataframe tbody tr th:only-of-type {\n",
              "        vertical-align: middle;\n",
              "    }\n",
              "\n",
              "    .dataframe tbody tr th {\n",
              "        vertical-align: top;\n",
              "    }\n",
              "\n",
              "    .dataframe thead th {\n",
              "        text-align: right;\n",
              "    }\n",
              "</style>\n",
              "<table border=\"1\" class=\"dataframe\">\n",
              "  <thead>\n",
              "    <tr style=\"text-align: right;\">\n",
              "      <th></th>\n",
              "      <th>model</th>\n",
              "      <th>fuel</th>\n",
              "    </tr>\n",
              "  </thead>\n",
              "  <tbody>\n",
              "    <tr>\n",
              "      <th>0</th>\n",
              "      <td>2197</td>\n",
              "      <td>2</td>\n",
              "    </tr>\n",
              "    <tr>\n",
              "      <th>1</th>\n",
              "      <td>1764</td>\n",
              "      <td>2</td>\n",
              "    </tr>\n",
              "    <tr>\n",
              "      <th>2</th>\n",
              "      <td>3285</td>\n",
              "      <td>2</td>\n",
              "    </tr>\n",
              "    <tr>\n",
              "      <th>3</th>\n",
              "      <td>1764</td>\n",
              "      <td>2</td>\n",
              "    </tr>\n",
              "    <tr>\n",
              "      <th>4</th>\n",
              "      <td>1843</td>\n",
              "      <td>0</td>\n",
              "    </tr>\n",
              "    <tr>\n",
              "      <th>...</th>\n",
              "      <td>...</td>\n",
              "      <td>...</td>\n",
              "    </tr>\n",
              "    <tr>\n",
              "      <th>19996</th>\n",
              "      <td>1379</td>\n",
              "      <td>0</td>\n",
              "    </tr>\n",
              "    <tr>\n",
              "      <th>19997</th>\n",
              "      <td>3242</td>\n",
              "      <td>2</td>\n",
              "    </tr>\n",
              "    <tr>\n",
              "      <th>19998</th>\n",
              "      <td>2224</td>\n",
              "      <td>2</td>\n",
              "    </tr>\n",
              "    <tr>\n",
              "      <th>19999</th>\n",
              "      <td>1276</td>\n",
              "      <td>2</td>\n",
              "    </tr>\n",
              "    <tr>\n",
              "      <th>20000</th>\n",
              "      <td>372</td>\n",
              "      <td>2</td>\n",
              "    </tr>\n",
              "  </tbody>\n",
              "</table>\n",
              "<p>20001 rows × 2 columns</p>\n",
              "</div>"
            ],
            "text/plain": [
              "       model  fuel\n",
              "0       2197     2\n",
              "1       1764     2\n",
              "2       3285     2\n",
              "3       1764     2\n",
              "4       1843     0\n",
              "...      ...   ...\n",
              "19996   1379     0\n",
              "19997   3242     2\n",
              "19998   2224     2\n",
              "19999   1276     2\n",
              "20000    372     2\n",
              "\n",
              "[20001 rows x 2 columns]"
            ]
          },
          "metadata": {
            "tags": []
          },
          "execution_count": 164
        }
      ]
    }
  ]
}
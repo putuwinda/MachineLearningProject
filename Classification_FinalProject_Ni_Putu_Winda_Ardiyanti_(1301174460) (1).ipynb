{
  "nbformat": 4,
  "nbformat_minor": 0,
  "metadata": {
    "colab": {
      "name": "Classification-FinalProject- Ni Putu Winda Ardiyanti (1301174460).ipynb",
      "provenance": []
    },
    "kernelspec": {
      "name": "python3",
      "display_name": "Python 3"
    }
  },
  "cells": [
    {
      "cell_type": "markdown",
      "metadata": {
        "id": "kvIjbdn4X6r0",
        "colab_type": "text"
      },
      "source": [
        "# CLASSIFICATION\n",
        "\n",
        "IN THIS CLASSIFICATION, THERE ARE 3 MODEL THAT USING FOR THE CLASSIFICATION.\n",
        "\n",
        "*  THE FIRST MODEL IS USING NAIVE BAYES CLASSIFIER\n",
        "*  THE SECOND MODEL IS USING DECISION TREE CLASSIFIER\n",
        "*  THE THIRD MODEL IS USING K-NEAREST NEIGHBOR CLASSIFIER\n",
        "*  THE PREPROCESSING DATA THAT IS USE IN EVERY MODEL IS SAME, THE DIFFERENCE ONLY BETWEEN THE CLASSIFIER\n",
        "\n",
        "THE AIM FOR THIS PROJECT IS TO DEFINE THE DIFFERENCE ACCURACY BETWEEN THE MODELS\n",
        "\n"
      ]
    },
    {
      "cell_type": "code",
      "metadata": {
        "id": "mz4hgcwbdK2O",
        "colab_type": "code",
        "colab": {}
      },
      "source": [
        "import pandas as pd\n",
        "import numpy as np\n",
        "import collections\n",
        "\n",
        "#import the classifier\n",
        "from sklearn.naive_bayes import GaussianNB\n",
        "from sklearn.tree import DecisionTreeClassifier\n",
        "from sklearn.neighbors import KNeighborsClassifier\n",
        "\n",
        "#import train_test_split to split the data\n",
        "from sklearn.model_selection import train_test_split\n",
        "\n",
        "# Import module to standardize the scale(normalization)\n",
        "import pandas as pd\n",
        "import numpy as np\n",
        "\n",
        "# Python script for confusion matrix creation. \n",
        "from sklearn.metrics import confusion_matrix \n",
        "from sklearn.metrics import accuracy_score \n",
        "from sklearn.metrics import classification_report \n",
        "from sklearn.metrics import f1_score\n",
        "\n",
        "#Import scikit-learn metrics module for accuracy calculation\n",
        "from sklearn import metrics"
      ],
      "execution_count": 0,
      "outputs": []
    },
    {
      "cell_type": "code",
      "metadata": {
        "id": "5CGcvxNvf_1c",
        "colab_type": "code",
        "outputId": "91e073d5-e949-46f5-e468-dd1d307ecb19",
        "colab": {
          "resources": {
            "http://localhost:8080/nbextensions/google.colab/files.js": {
              "data": "Ly8gQ29weXJpZ2h0IDIwMTcgR29vZ2xlIExMQwovLwovLyBMaWNlbnNlZCB1bmRlciB0aGUgQXBhY2hlIExpY2Vuc2UsIFZlcnNpb24gMi4wICh0aGUgIkxpY2Vuc2UiKTsKLy8geW91IG1heSBub3QgdXNlIHRoaXMgZmlsZSBleGNlcHQgaW4gY29tcGxpYW5jZSB3aXRoIHRoZSBMaWNlbnNlLgovLyBZb3UgbWF5IG9idGFpbiBhIGNvcHkgb2YgdGhlIExpY2Vuc2UgYXQKLy8KLy8gICAgICBodHRwOi8vd3d3LmFwYWNoZS5vcmcvbGljZW5zZXMvTElDRU5TRS0yLjAKLy8KLy8gVW5sZXNzIHJlcXVpcmVkIGJ5IGFwcGxpY2FibGUgbGF3IG9yIGFncmVlZCB0byBpbiB3cml0aW5nLCBzb2Z0d2FyZQovLyBkaXN0cmlidXRlZCB1bmRlciB0aGUgTGljZW5zZSBpcyBkaXN0cmlidXRlZCBvbiBhbiAiQVMgSVMiIEJBU0lTLAovLyBXSVRIT1VUIFdBUlJBTlRJRVMgT1IgQ09ORElUSU9OUyBPRiBBTlkgS0lORCwgZWl0aGVyIGV4cHJlc3Mgb3IgaW1wbGllZC4KLy8gU2VlIHRoZSBMaWNlbnNlIGZvciB0aGUgc3BlY2lmaWMgbGFuZ3VhZ2UgZ292ZXJuaW5nIHBlcm1pc3Npb25zIGFuZAovLyBsaW1pdGF0aW9ucyB1bmRlciB0aGUgTGljZW5zZS4KCi8qKgogKiBAZmlsZW92ZXJ2aWV3IEhlbHBlcnMgZm9yIGdvb2dsZS5jb2xhYiBQeXRob24gbW9kdWxlLgogKi8KKGZ1bmN0aW9uKHNjb3BlKSB7CmZ1bmN0aW9uIHNwYW4odGV4dCwgc3R5bGVBdHRyaWJ1dGVzID0ge30pIHsKICBjb25zdCBlbGVtZW50ID0gZG9jdW1lbnQuY3JlYXRlRWxlbWVudCgnc3BhbicpOwogIGVsZW1lbnQudGV4dENvbnRlbnQgPSB0ZXh0OwogIGZvciAoY29uc3Qga2V5IG9mIE9iamVjdC5rZXlzKHN0eWxlQXR0cmlidXRlcykpIHsKICAgIGVsZW1lbnQuc3R5bGVba2V5XSA9IHN0eWxlQXR0cmlidXRlc1trZXldOwogIH0KICByZXR1cm4gZWxlbWVudDsKfQoKLy8gTWF4IG51bWJlciBvZiBieXRlcyB3aGljaCB3aWxsIGJlIHVwbG9hZGVkIGF0IGEgdGltZS4KY29uc3QgTUFYX1BBWUxPQURfU0laRSA9IDEwMCAqIDEwMjQ7Ci8vIE1heCBhbW91bnQgb2YgdGltZSB0byBibG9jayB3YWl0aW5nIGZvciB0aGUgdXNlci4KY29uc3QgRklMRV9DSEFOR0VfVElNRU9VVF9NUyA9IDMwICogMTAwMDsKCmZ1bmN0aW9uIF91cGxvYWRGaWxlcyhpbnB1dElkLCBvdXRwdXRJZCkgewogIGNvbnN0IHN0ZXBzID0gdXBsb2FkRmlsZXNTdGVwKGlucHV0SWQsIG91dHB1dElkKTsKICBjb25zdCBvdXRwdXRFbGVtZW50ID0gZG9jdW1lbnQuZ2V0RWxlbWVudEJ5SWQob3V0cHV0SWQpOwogIC8vIENhY2hlIHN0ZXBzIG9uIHRoZSBvdXRwdXRFbGVtZW50IHRvIG1ha2UgaXQgYXZhaWxhYmxlIGZvciB0aGUgbmV4dCBjYWxsCiAgLy8gdG8gdXBsb2FkRmlsZXNDb250aW51ZSBmcm9tIFB5dGhvbi4KICBvdXRwdXRFbGVtZW50LnN0ZXBzID0gc3RlcHM7CgogIHJldHVybiBfdXBsb2FkRmlsZXNDb250aW51ZShvdXRwdXRJZCk7Cn0KCi8vIFRoaXMgaXMgcm91Z2hseSBhbiBhc3luYyBnZW5lcmF0b3IgKG5vdCBzdXBwb3J0ZWQgaW4gdGhlIGJyb3dzZXIgeWV0KSwKLy8gd2hlcmUgdGhlcmUgYXJlIG11bHRpcGxlIGFzeW5jaHJvbm91cyBzdGVwcyBhbmQgdGhlIFB5dGhvbiBzaWRlIGlzIGdvaW5nCi8vIHRvIHBvbGwgZm9yIGNvbXBsZXRpb24gb2YgZWFjaCBzdGVwLgovLyBUaGlzIHVzZXMgYSBQcm9taXNlIHRvIGJsb2NrIHRoZSBweXRob24gc2lkZSBvbiBjb21wbGV0aW9uIG9mIGVhY2ggc3RlcCwKLy8gdGhlbiBwYXNzZXMgdGhlIHJlc3VsdCBvZiB0aGUgcHJldmlvdXMgc3RlcCBhcyB0aGUgaW5wdXQgdG8gdGhlIG5leHQgc3RlcC4KZnVuY3Rpb24gX3VwbG9hZEZpbGVzQ29udGludWUob3V0cHV0SWQpIHsKICBjb25zdCBvdXRwdXRFbGVtZW50ID0gZG9jdW1lbnQuZ2V0RWxlbWVudEJ5SWQob3V0cHV0SWQpOwogIGNvbnN0IHN0ZXBzID0gb3V0cHV0RWxlbWVudC5zdGVwczsKCiAgY29uc3QgbmV4dCA9IHN0ZXBzLm5leHQob3V0cHV0RWxlbWVudC5sYXN0UHJvbWlzZVZhbHVlKTsKICByZXR1cm4gUHJvbWlzZS5yZXNvbHZlKG5leHQudmFsdWUucHJvbWlzZSkudGhlbigodmFsdWUpID0+IHsKICAgIC8vIENhY2hlIHRoZSBsYXN0IHByb21pc2UgdmFsdWUgdG8gbWFrZSBpdCBhdmFpbGFibGUgdG8gdGhlIG5leHQKICAgIC8vIHN0ZXAgb2YgdGhlIGdlbmVyYXRvci4KICAgIG91dHB1dEVsZW1lbnQubGFzdFByb21pc2VWYWx1ZSA9IHZhbHVlOwogICAgcmV0dXJuIG5leHQudmFsdWUucmVzcG9uc2U7CiAgfSk7Cn0KCi8qKgogKiBHZW5lcmF0b3IgZnVuY3Rpb24gd2hpY2ggaXMgY2FsbGVkIGJldHdlZW4gZWFjaCBhc3luYyBzdGVwIG9mIHRoZSB1cGxvYWQKICogcHJvY2Vzcy4KICogQHBhcmFtIHtzdHJpbmd9IGlucHV0SWQgRWxlbWVudCBJRCBvZiB0aGUgaW5wdXQgZmlsZSBwaWNrZXIgZWxlbWVudC4KICogQHBhcmFtIHtzdHJpbmd9IG91dHB1dElkIEVsZW1lbnQgSUQgb2YgdGhlIG91dHB1dCBkaXNwbGF5LgogKiBAcmV0dXJuIHshSXRlcmFibGU8IU9iamVjdD59IEl0ZXJhYmxlIG9mIG5leHQgc3RlcHMuCiAqLwpmdW5jdGlvbiogdXBsb2FkRmlsZXNTdGVwKGlucHV0SWQsIG91dHB1dElkKSB7CiAgY29uc3QgaW5wdXRFbGVtZW50ID0gZG9jdW1lbnQuZ2V0RWxlbWVudEJ5SWQoaW5wdXRJZCk7CiAgaW5wdXRFbGVtZW50LmRpc2FibGVkID0gZmFsc2U7CgogIGNvbnN0IG91dHB1dEVsZW1lbnQgPSBkb2N1bWVudC5nZXRFbGVtZW50QnlJZChvdXRwdXRJZCk7CiAgb3V0cHV0RWxlbWVudC5pbm5lckhUTUwgPSAnJzsKCiAgY29uc3QgcGlja2VkUHJvbWlzZSA9IG5ldyBQcm9taXNlKChyZXNvbHZlKSA9PiB7CiAgICBpbnB1dEVsZW1lbnQuYWRkRXZlbnRMaXN0ZW5lcignY2hhbmdlJywgKGUpID0+IHsKICAgICAgcmVzb2x2ZShlLnRhcmdldC5maWxlcyk7CiAgICB9KTsKICB9KTsKCiAgY29uc3QgY2FuY2VsID0gZG9jdW1lbnQuY3JlYXRlRWxlbWVudCgnYnV0dG9uJyk7CiAgaW5wdXRFbGVtZW50LnBhcmVudEVsZW1lbnQuYXBwZW5kQ2hpbGQoY2FuY2VsKTsKICBjYW5jZWwudGV4dENvbnRlbnQgPSAnQ2FuY2VsIHVwbG9hZCc7CiAgY29uc3QgY2FuY2VsUHJvbWlzZSA9IG5ldyBQcm9taXNlKChyZXNvbHZlKSA9PiB7CiAgICBjYW5jZWwub25jbGljayA9ICgpID0+IHsKICAgICAgcmVzb2x2ZShudWxsKTsKICAgIH07CiAgfSk7CgogIC8vIENhbmNlbCB1cGxvYWQgaWYgdXNlciBoYXNuJ3QgcGlja2VkIGFueXRoaW5nIGluIHRpbWVvdXQuCiAgY29uc3QgdGltZW91dFByb21pc2UgPSBuZXcgUHJvbWlzZSgocmVzb2x2ZSkgPT4gewogICAgc2V0VGltZW91dCgoKSA9PiB7CiAgICAgIHJlc29sdmUobnVsbCk7CiAgICB9LCBGSUxFX0NIQU5HRV9USU1FT1VUX01TKTsKICB9KTsKCiAgLy8gV2FpdCBmb3IgdGhlIHVzZXIgdG8gcGljayB0aGUgZmlsZXMuCiAgY29uc3QgZmlsZXMgPSB5aWVsZCB7CiAgICBwcm9taXNlOiBQcm9taXNlLnJhY2UoW3BpY2tlZFByb21pc2UsIHRpbWVvdXRQcm9taXNlLCBjYW5jZWxQcm9taXNlXSksCiAgICByZXNwb25zZTogewogICAgICBhY3Rpb246ICdzdGFydGluZycsCiAgICB9CiAgfTsKCiAgaWYgKCFmaWxlcykgewogICAgcmV0dXJuIHsKICAgICAgcmVzcG9uc2U6IHsKICAgICAgICBhY3Rpb246ICdjb21wbGV0ZScsCiAgICAgIH0KICAgIH07CiAgfQoKICBjYW5jZWwucmVtb3ZlKCk7CgogIC8vIERpc2FibGUgdGhlIGlucHV0IGVsZW1lbnQgc2luY2UgZnVydGhlciBwaWNrcyBhcmUgbm90IGFsbG93ZWQuCiAgaW5wdXRFbGVtZW50LmRpc2FibGVkID0gdHJ1ZTsKCiAgZm9yIChjb25zdCBmaWxlIG9mIGZpbGVzKSB7CiAgICBjb25zdCBsaSA9IGRvY3VtZW50LmNyZWF0ZUVsZW1lbnQoJ2xpJyk7CiAgICBsaS5hcHBlbmQoc3BhbihmaWxlLm5hbWUsIHtmb250V2VpZ2h0OiAnYm9sZCd9KSk7CiAgICBsaS5hcHBlbmQoc3BhbigKICAgICAgICBgKCR7ZmlsZS50eXBlIHx8ICduL2EnfSkgLSAke2ZpbGUuc2l6ZX0gYnl0ZXMsIGAgKwogICAgICAgIGBsYXN0IG1vZGlmaWVkOiAkewogICAgICAgICAgICBmaWxlLmxhc3RNb2RpZmllZERhdGUgPyBmaWxlLmxhc3RNb2RpZmllZERhdGUudG9Mb2NhbGVEYXRlU3RyaW5nKCkgOgogICAgICAgICAgICAgICAgICAgICAgICAgICAgICAgICAgICAnbi9hJ30gLSBgKSk7CiAgICBjb25zdCBwZXJjZW50ID0gc3BhbignMCUgZG9uZScpOwogICAgbGkuYXBwZW5kQ2hpbGQocGVyY2VudCk7CgogICAgb3V0cHV0RWxlbWVudC5hcHBlbmRDaGlsZChsaSk7CgogICAgY29uc3QgZmlsZURhdGFQcm9taXNlID0gbmV3IFByb21pc2UoKHJlc29sdmUpID0+IHsKICAgICAgY29uc3QgcmVhZGVyID0gbmV3IEZpbGVSZWFkZXIoKTsKICAgICAgcmVhZGVyLm9ubG9hZCA9IChlKSA9PiB7CiAgICAgICAgcmVzb2x2ZShlLnRhcmdldC5yZXN1bHQpOwogICAgICB9OwogICAgICByZWFkZXIucmVhZEFzQXJyYXlCdWZmZXIoZmlsZSk7CiAgICB9KTsKICAgIC8vIFdhaXQgZm9yIHRoZSBkYXRhIHRvIGJlIHJlYWR5LgogICAgbGV0IGZpbGVEYXRhID0geWllbGQgewogICAgICBwcm9taXNlOiBmaWxlRGF0YVByb21pc2UsCiAgICAgIHJlc3BvbnNlOiB7CiAgICAgICAgYWN0aW9uOiAnY29udGludWUnLAogICAgICB9CiAgICB9OwoKICAgIC8vIFVzZSBhIGNodW5rZWQgc2VuZGluZyB0byBhdm9pZCBtZXNzYWdlIHNpemUgbGltaXRzLiBTZWUgYi82MjExNTY2MC4KICAgIGxldCBwb3NpdGlvbiA9IDA7CiAgICB3aGlsZSAocG9zaXRpb24gPCBmaWxlRGF0YS5ieXRlTGVuZ3RoKSB7CiAgICAgIGNvbnN0IGxlbmd0aCA9IE1hdGgubWluKGZpbGVEYXRhLmJ5dGVMZW5ndGggLSBwb3NpdGlvbiwgTUFYX1BBWUxPQURfU0laRSk7CiAgICAgIGNvbnN0IGNodW5rID0gbmV3IFVpbnQ4QXJyYXkoZmlsZURhdGEsIHBvc2l0aW9uLCBsZW5ndGgpOwogICAgICBwb3NpdGlvbiArPSBsZW5ndGg7CgogICAgICBjb25zdCBiYXNlNjQgPSBidG9hKFN0cmluZy5mcm9tQ2hhckNvZGUuYXBwbHkobnVsbCwgY2h1bmspKTsKICAgICAgeWllbGQgewogICAgICAgIHJlc3BvbnNlOiB7CiAgICAgICAgICBhY3Rpb246ICdhcHBlbmQnLAogICAgICAgICAgZmlsZTogZmlsZS5uYW1lLAogICAgICAgICAgZGF0YTogYmFzZTY0LAogICAgICAgIH0sCiAgICAgIH07CiAgICAgIHBlcmNlbnQudGV4dENvbnRlbnQgPQogICAgICAgICAgYCR7TWF0aC5yb3VuZCgocG9zaXRpb24gLyBmaWxlRGF0YS5ieXRlTGVuZ3RoKSAqIDEwMCl9JSBkb25lYDsKICAgIH0KICB9CgogIC8vIEFsbCBkb25lLgogIHlpZWxkIHsKICAgIHJlc3BvbnNlOiB7CiAgICAgIGFjdGlvbjogJ2NvbXBsZXRlJywKICAgIH0KICB9Owp9CgpzY29wZS5nb29nbGUgPSBzY29wZS5nb29nbGUgfHwge307CnNjb3BlLmdvb2dsZS5jb2xhYiA9IHNjb3BlLmdvb2dsZS5jb2xhYiB8fCB7fTsKc2NvcGUuZ29vZ2xlLmNvbGFiLl9maWxlcyA9IHsKICBfdXBsb2FkRmlsZXMsCiAgX3VwbG9hZEZpbGVzQ29udGludWUsCn07Cn0pKHNlbGYpOwo=",
              "ok": true,
              "headers": [
                [
                  "content-type",
                  "application/javascript"
                ]
              ],
              "status": 200,
              "status_text": ""
            }
          },
          "base_uri": "https://localhost:8080/",
          "height": 74
        }
      },
      "source": [
        "from google.colab import files\n",
        "uploaded = files.upload()"
      ],
      "execution_count": 0,
      "outputs": [
        {
          "output_type": "display_data",
          "data": {
            "text/html": [
              "\n",
              "     <input type=\"file\" id=\"files-62bb7c1e-d3ec-4232-a9d4-13fdcbdb4361\" name=\"files[]\" multiple disabled />\n",
              "     <output id=\"result-62bb7c1e-d3ec-4232-a9d4-13fdcbdb4361\">\n",
              "      Upload widget is only available when the cell has been executed in the\n",
              "      current browser session. Please rerun this cell to enable.\n",
              "      </output>\n",
              "      <script src=\"/nbextensions/google.colab/files.js\"></script> "
            ],
            "text/plain": [
              "<IPython.core.display.HTML object>"
            ]
          },
          "metadata": {
            "tags": []
          }
        },
        {
          "output_type": "stream",
          "text": [
            "Saving used_cars.csv to used_cars.csv\n"
          ],
          "name": "stdout"
        }
      ]
    },
    {
      "cell_type": "markdown",
      "metadata": {
        "id": "ryWw-OS8gUHO",
        "colab_type": "text"
      },
      "source": [
        "**read dataset**"
      ]
    },
    {
      "cell_type": "code",
      "metadata": {
        "id": "IpNRAWxKgOZH",
        "colab_type": "code",
        "colab": {}
      },
      "source": [
        "import io\n",
        "df = pd.read_csv(io.BytesIO(uploaded['used_cars.csv']))"
      ],
      "execution_count": 0,
      "outputs": []
    },
    {
      "cell_type": "code",
      "metadata": {
        "id": "CWs8Ci6POvYS",
        "colab_type": "code",
        "outputId": "05bb404b-2f5b-48ba-9eee-e2ec70e01991",
        "colab": {
          "base_uri": "https://localhost:8080/",
          "height": 517
        }
      },
      "source": [
        "df.head()"
      ],
      "execution_count": 0,
      "outputs": [
        {
          "output_type": "execute_result",
          "data": {
            "text/html": [
              "<div>\n",
              "<style scoped>\n",
              "    .dataframe tbody tr th:only-of-type {\n",
              "        vertical-align: middle;\n",
              "    }\n",
              "\n",
              "    .dataframe tbody tr th {\n",
              "        vertical-align: top;\n",
              "    }\n",
              "\n",
              "    .dataframe thead th {\n",
              "        text-align: right;\n",
              "    }\n",
              "</style>\n",
              "<table border=\"1\" class=\"dataframe\">\n",
              "  <thead>\n",
              "    <tr style=\"text-align: right;\">\n",
              "      <th></th>\n",
              "      <th>Unnamed: 0</th>\n",
              "      <th>id</th>\n",
              "      <th>url</th>\n",
              "      <th>region</th>\n",
              "      <th>region_url</th>\n",
              "      <th>price</th>\n",
              "      <th>year</th>\n",
              "      <th>manufacturer</th>\n",
              "      <th>model</th>\n",
              "      <th>condition</th>\n",
              "      <th>cylinders</th>\n",
              "      <th>fuel</th>\n",
              "      <th>odometer</th>\n",
              "      <th>title_status</th>\n",
              "      <th>transmission</th>\n",
              "      <th>vin</th>\n",
              "      <th>drive</th>\n",
              "      <th>size</th>\n",
              "      <th>type</th>\n",
              "      <th>paint_color</th>\n",
              "      <th>image_url</th>\n",
              "      <th>description</th>\n",
              "      <th>county</th>\n",
              "      <th>state</th>\n",
              "      <th>lat</th>\n",
              "      <th>long</th>\n",
              "    </tr>\n",
              "  </thead>\n",
              "  <tbody>\n",
              "    <tr>\n",
              "      <th>0</th>\n",
              "      <td>0</td>\n",
              "      <td>7034441763</td>\n",
              "      <td>https://saltlakecity.craigslist.org/cto/d/salt...</td>\n",
              "      <td>salt lake city</td>\n",
              "      <td>https://saltlakecity.craigslist.org</td>\n",
              "      <td>17899</td>\n",
              "      <td>2012.0</td>\n",
              "      <td>volkswagen</td>\n",
              "      <td>golf r</td>\n",
              "      <td>excellent</td>\n",
              "      <td>4 cylinders</td>\n",
              "      <td>gas</td>\n",
              "      <td>63500.0</td>\n",
              "      <td>clean</td>\n",
              "      <td>manual</td>\n",
              "      <td>WVWPF7AJ6CW316713</td>\n",
              "      <td>4wd</td>\n",
              "      <td>compact</td>\n",
              "      <td>hatchback</td>\n",
              "      <td>black</td>\n",
              "      <td>https://images.craigslist.org/00G0G_fTLDWM5Xyv...</td>\n",
              "      <td>PRICE REDUCED!   -Garage kept -Low Miles (63K)...</td>\n",
              "      <td>NaN</td>\n",
              "      <td>ut</td>\n",
              "      <td>40.7372</td>\n",
              "      <td>-111.858</td>\n",
              "    </tr>\n",
              "    <tr>\n",
              "      <th>1</th>\n",
              "      <td>1</td>\n",
              "      <td>7034440610</td>\n",
              "      <td>https://saltlakecity.craigslist.org/ctd/d/sand...</td>\n",
              "      <td>salt lake city</td>\n",
              "      <td>https://saltlakecity.craigslist.org</td>\n",
              "      <td>0</td>\n",
              "      <td>2016.0</td>\n",
              "      <td>ford</td>\n",
              "      <td>f-150</td>\n",
              "      <td>excellent</td>\n",
              "      <td>NaN</td>\n",
              "      <td>gas</td>\n",
              "      <td>10.0</td>\n",
              "      <td>clean</td>\n",
              "      <td>automatic</td>\n",
              "      <td>1FTMF1EP3GKF13544</td>\n",
              "      <td>4wd</td>\n",
              "      <td>NaN</td>\n",
              "      <td>NaN</td>\n",
              "      <td>NaN</td>\n",
              "      <td>https://images.craigslist.org/00v0v_7Cu0buIofU...</td>\n",
              "      <td>Drive it home today. Call (Or Text) us now !!C...</td>\n",
              "      <td>NaN</td>\n",
              "      <td>ut</td>\n",
              "      <td>40.5881</td>\n",
              "      <td>-111.884</td>\n",
              "    </tr>\n",
              "    <tr>\n",
              "      <th>2</th>\n",
              "      <td>2</td>\n",
              "      <td>7034440588</td>\n",
              "      <td>https://saltlakecity.craigslist.org/ctd/d/sand...</td>\n",
              "      <td>salt lake city</td>\n",
              "      <td>https://saltlakecity.craigslist.org</td>\n",
              "      <td>46463</td>\n",
              "      <td>2015.0</td>\n",
              "      <td>gmc</td>\n",
              "      <td>sierra 1500</td>\n",
              "      <td>excellent</td>\n",
              "      <td>NaN</td>\n",
              "      <td>gas</td>\n",
              "      <td>7554.0</td>\n",
              "      <td>clean</td>\n",
              "      <td>automatic</td>\n",
              "      <td>3GTU2WEC6FG228025</td>\n",
              "      <td>4wd</td>\n",
              "      <td>NaN</td>\n",
              "      <td>NaN</td>\n",
              "      <td>white</td>\n",
              "      <td>https://images.craigslist.org/01515_lPvJ9bfbdY...</td>\n",
              "      <td>Drive it home today. Call (Or Text) us now !!C...</td>\n",
              "      <td>NaN</td>\n",
              "      <td>ut</td>\n",
              "      <td>40.5881</td>\n",
              "      <td>-111.884</td>\n",
              "    </tr>\n",
              "    <tr>\n",
              "      <th>3</th>\n",
              "      <td>3</td>\n",
              "      <td>7034440546</td>\n",
              "      <td>https://saltlakecity.craigslist.org/ctd/d/sand...</td>\n",
              "      <td>salt lake city</td>\n",
              "      <td>https://saltlakecity.craigslist.org</td>\n",
              "      <td>0</td>\n",
              "      <td>2016.0</td>\n",
              "      <td>ford</td>\n",
              "      <td>f-150</td>\n",
              "      <td>excellent</td>\n",
              "      <td>NaN</td>\n",
              "      <td>gas</td>\n",
              "      <td>10.0</td>\n",
              "      <td>clean</td>\n",
              "      <td>automatic</td>\n",
              "      <td>1FTEX1EF6GKD25447</td>\n",
              "      <td>4wd</td>\n",
              "      <td>NaN</td>\n",
              "      <td>NaN</td>\n",
              "      <td>NaN</td>\n",
              "      <td>https://images.craigslist.org/00T0T_6Rjfp3NS4O...</td>\n",
              "      <td>Drive it home today. Call (Or Text) us now !!C...</td>\n",
              "      <td>NaN</td>\n",
              "      <td>ut</td>\n",
              "      <td>40.5881</td>\n",
              "      <td>-111.884</td>\n",
              "    </tr>\n",
              "    <tr>\n",
              "      <th>4</th>\n",
              "      <td>4</td>\n",
              "      <td>7034406932</td>\n",
              "      <td>https://saltlakecity.craigslist.org/ctd/d/evan...</td>\n",
              "      <td>salt lake city</td>\n",
              "      <td>https://saltlakecity.craigslist.org</td>\n",
              "      <td>49999</td>\n",
              "      <td>2018.0</td>\n",
              "      <td>ford</td>\n",
              "      <td>f-450</td>\n",
              "      <td>NaN</td>\n",
              "      <td>NaN</td>\n",
              "      <td>diesel</td>\n",
              "      <td>70150.0</td>\n",
              "      <td>clean</td>\n",
              "      <td>automatic</td>\n",
              "      <td>1FT8W4DT8GEA90427</td>\n",
              "      <td>4wd</td>\n",
              "      <td>NaN</td>\n",
              "      <td>pickup</td>\n",
              "      <td>white</td>\n",
              "      <td>https://images.craigslist.org/00W0W_8yIUwRBXXd...</td>\n",
              "      <td>2018 Ford F-350 F350 F 350 SD Lariat Crew Cab ...</td>\n",
              "      <td>NaN</td>\n",
              "      <td>ut</td>\n",
              "      <td>40.3744</td>\n",
              "      <td>-104.694</td>\n",
              "    </tr>\n",
              "  </tbody>\n",
              "</table>\n",
              "</div>"
            ],
            "text/plain": [
              "   Unnamed: 0          id  ...      lat     long\n",
              "0           0  7034441763  ...  40.7372 -111.858\n",
              "1           1  7034440610  ...  40.5881 -111.884\n",
              "2           2  7034440588  ...  40.5881 -111.884\n",
              "3           3  7034440546  ...  40.5881 -111.884\n",
              "4           4  7034406932  ...  40.3744 -104.694\n",
              "\n",
              "[5 rows x 26 columns]"
            ]
          },
          "metadata": {
            "tags": []
          },
          "execution_count": 4
        }
      ]
    },
    {
      "cell_type": "code",
      "metadata": {
        "id": "-ZDnSnet6fS8",
        "colab_type": "code",
        "colab": {}
      },
      "source": [
        "df.isnull().sum()"
      ],
      "execution_count": 0,
      "outputs": []
    },
    {
      "cell_type": "code",
      "metadata": {
        "id": "UJcrsk_2st_4",
        "colab_type": "code",
        "outputId": "49dfc929-f4c0-452e-a2c3-4223a6acae0b",
        "colab": {
          "base_uri": "https://localhost:8080/",
          "height": 87
        }
      },
      "source": [
        "df['transmission'].value_counts()"
      ],
      "execution_count": 0,
      "outputs": [
        {
          "output_type": "execute_result",
          "data": {
            "text/plain": [
              "automatic    17518\n",
              "manual        1710\n",
              "other          583\n",
              "Name: transmission, dtype: int64"
            ]
          },
          "metadata": {
            "tags": []
          },
          "execution_count": 10
        }
      ]
    },
    {
      "cell_type": "markdown",
      "metadata": {
        "id": "7UudddmGN9Wl",
        "colab_type": "text"
      },
      "source": [
        "# Visualize the **Outlier** that occur on the every features"
      ]
    },
    {
      "cell_type": "code",
      "metadata": {
        "id": "0E1_3qSRQ_NF",
        "colab_type": "code",
        "outputId": "769cd9bc-bc26-4845-ae90-b7506072e8dc",
        "colab": {
          "base_uri": "https://localhost:8080/",
          "height": 352
        }
      },
      "source": [
        "#import the library for boxplot\n",
        "import seaborn as sns\n",
        "sns.boxplot(x=df['id'])"
      ],
      "execution_count": 0,
      "outputs": [
        {
          "output_type": "stream",
          "text": [
            "/usr/local/lib/python3.6/dist-packages/statsmodels/tools/_testing.py:19: FutureWarning: pandas.util.testing is deprecated. Use the functions in the public API at pandas.testing instead.\n",
            "  import pandas.util.testing as tm\n"
          ],
          "name": "stderr"
        },
        {
          "output_type": "execute_result",
          "data": {
            "text/plain": [
              "<matplotlib.axes._subplots.AxesSubplot at 0x7fa6949431d0>"
            ]
          },
          "metadata": {
            "tags": []
          },
          "execution_count": 6
        },
        {
          "output_type": "display_data",
          "data": {
            "image/png": "[encoded data removed]",
            "text/plain": [
              "<Figure size 432x288 with 1 Axes>"
            ]
          },
          "metadata": {
            "tags": [],
            "needs_background": "light"
          }
        }
      ]
    },
    {
      "cell_type": "code",
      "metadata": {
        "id": "IPUj7KuJRY5B",
        "colab_type": "code",
        "outputId": "1c798183-a873-479e-e0a9-60fceb47f2da",
        "colab": {
          "base_uri": "https://localhost:8080/",
          "height": 296
        }
      },
      "source": [
        "sns.boxplot(x=df['price'])"
      ],
      "execution_count": 0,
      "outputs": [
        {
          "output_type": "execute_result",
          "data": {
            "text/plain": [
              "<matplotlib.axes._subplots.AxesSubplot at 0x7fa694880ac8>"
            ]
          },
          "metadata": {
            "tags": []
          },
          "execution_count": 7
        },
        {
          "output_type": "display_data",
          "data": {
            "image/png": "[encoded data removed]",
            "text/plain": [
              "<Figure size 432x288 with 1 Axes>"
            ]
          },
          "metadata": {
            "tags": [],
            "needs_background": "light"
          }
        }
      ]
    },
    {
      "cell_type": "code",
      "metadata": {
        "id": "Mo2WFWC8SGd0",
        "colab_type": "code",
        "outputId": "a90a1f1f-6acc-4b2a-8705-97a88e95f7cc",
        "colab": {
          "base_uri": "https://localhost:8080/",
          "height": 296
        }
      },
      "source": [
        "sns.boxplot(x=df['year'])"
      ],
      "execution_count": 0,
      "outputs": [
        {
          "output_type": "execute_result",
          "data": {
            "text/plain": [
              "<matplotlib.axes._subplots.AxesSubplot at 0x7fa6943a7550>"
            ]
          },
          "metadata": {
            "tags": []
          },
          "execution_count": 8
        },
        {
          "output_type": "display_data",
          "data": {
            "image/png": "[encoded data removed]",
            "text/plain": [
              "<Figure size 432x288 with 1 Axes>"
            ]
          },
          "metadata": {
            "tags": [],
            "needs_background": "light"
          }
        }
      ]
    },
    {
      "cell_type": "code",
      "metadata": {
        "id": "DZRr2ejCSKDK",
        "colab_type": "code",
        "outputId": "e40687b6-8ecc-4da3-9bdf-266dd96efd59",
        "colab": {
          "base_uri": "https://localhost:8080/",
          "height": 296
        }
      },
      "source": [
        "sns.boxplot(x=df['odometer'])"
      ],
      "execution_count": 0,
      "outputs": [
        {
          "output_type": "execute_result",
          "data": {
            "text/plain": [
              "<matplotlib.axes._subplots.AxesSubplot at 0x7fa6942ddef0>"
            ]
          },
          "metadata": {
            "tags": []
          },
          "execution_count": 9
        },
        {
          "output_type": "display_data",
          "data": {
            "image/png": "[encoded data removed]",
            "text/plain": [
              "<Figure size 432x288 with 1 Axes>"
            ]
          },
          "metadata": {
            "tags": [],
            "needs_background": "light"
          }
        }
      ]
    },
    {
      "cell_type": "code",
      "metadata": {
        "id": "qYY0JWaESOUi",
        "colab_type": "code",
        "outputId": "2811fc27-e16b-49cb-a8e9-0f9e03aee99b",
        "colab": {
          "base_uri": "https://localhost:8080/",
          "height": 296
        }
      },
      "source": [
        "sns.boxplot(x=df['lat'])"
      ],
      "execution_count": 0,
      "outputs": [
        {
          "output_type": "execute_result",
          "data": {
            "text/plain": [
              "<matplotlib.axes._subplots.AxesSubplot at 0x7fa6942ba240>"
            ]
          },
          "metadata": {
            "tags": []
          },
          "execution_count": 10
        },
        {
          "output_type": "display_data",
          "data": {
            "image/png": "[encoded data removed]",
            "text/plain": [
              "<Figure size 432x288 with 1 Axes>"
            ]
          },
          "metadata": {
            "tags": [],
            "needs_background": "light"
          }
        }
      ]
    },
    {
      "cell_type": "code",
      "metadata": {
        "id": "KiyhB3vMSR_n",
        "colab_type": "code",
        "outputId": "cbda7f8d-31b6-4cd8-dce8-7d8a5234fcef",
        "colab": {
          "base_uri": "https://localhost:8080/",
          "height": 296
        }
      },
      "source": [
        "sns.boxplot(x=df['long'])"
      ],
      "execution_count": 0,
      "outputs": [
        {
          "output_type": "execute_result",
          "data": {
            "text/plain": [
              "<matplotlib.axes._subplots.AxesSubplot at 0x7fa69421d2b0>"
            ]
          },
          "metadata": {
            "tags": []
          },
          "execution_count": 11
        },
        {
          "output_type": "display_data",
          "data": {
            "image/png": "[encoded data removed]",
            "text/plain": [
              "<Figure size 432x288 with 1 Axes>"
            ]
          },
          "metadata": {
            "tags": [],
            "needs_background": "light"
          }
        }
      ]
    },
    {
      "cell_type": "code",
      "metadata": {
        "id": "ptvNiEM7SW5C",
        "colab_type": "code",
        "outputId": "b08458b6-6f51-47fc-d48f-60093914ec4a",
        "colab": {
          "base_uri": "https://localhost:8080/",
          "height": 296
        }
      },
      "source": [
        "sns.boxplot(x=df['id'])"
      ],
      "execution_count": 0,
      "outputs": [
        {
          "output_type": "execute_result",
          "data": {
            "text/plain": [
              "<matplotlib.axes._subplots.AxesSubplot at 0x7fa69420aa58>"
            ]
          },
          "metadata": {
            "tags": []
          },
          "execution_count": 12
        },
        {
          "output_type": "display_data",
          "data": {
            "image/png": "[encoded data removed]",
            "text/plain": [
              "<Figure size 432x288 with 1 Axes>"
            ]
          },
          "metadata": {
            "tags": [],
            "needs_background": "light"
          }
        }
      ]
    },
    {
      "cell_type": "markdown",
      "metadata": {
        "id": "ElIg5Yc0glVv",
        "colab_type": "text"
      },
      "source": [
        "# **Data Preprocessing**\n",
        "\n",
        "(its important to know the features and label that we are going to use for the classification, so we can do the data preprocessing more effectively)\n",
        "\n",
        "IN THIS PHASE OF DATA PREPROCESSING, WE DO SEVERAL STEPS WHICH IS\n",
        "\n",
        "- DROP THE COLUMNS\n",
        "- VALUE IMPUTAIION FOR MISSING VALUE\n",
        "- FEATURES ENCODING\n",
        "- MINMAX NORMALIZATION\n"
      ]
    },
    {
      "cell_type": "markdown",
      "metadata": {
        "id": "ieXfFF5fFT3i",
        "colab_type": "text"
      },
      "source": [
        "1. **DROP UNECESSARY COLUMNS**  that we are not going to use for the classification\n"
      ]
    },
    {
      "cell_type": "code",
      "metadata": {
        "id": "1qpqcn4pgi23",
        "colab_type": "code",
        "colab": {}
      },
      "source": [
        "#drop some columns\n",
        "# sometimes it will be error when we drop the columns, to avoid this situation please re-read the datasets\n",
        "df = df.drop(columns=['Unnamed: 0','region_url', 'image_url', 'lat', 'long','drive', 'county','url','price','cylinders','title_status','vin','paint_color', 'description','state','region','size','condition','type'])"
      ],
      "execution_count": 0,
      "outputs": []
    },
    {
      "cell_type": "markdown",
      "metadata": {
        "id": "5HZRCM4eL2gq",
        "colab_type": "text"
      },
      "source": [
        ""
      ]
    },
    {
      "cell_type": "code",
      "metadata": {
        "id": "9x8_6MX6gzEO",
        "colab_type": "code",
        "outputId": "4024ca11-c1d7-410f-de6f-e141965da5a8",
        "colab": {
          "base_uri": "https://localhost:8080/",
          "height": 406
        }
      },
      "source": [
        "#the columns already dropped\n",
        "df"
      ],
      "execution_count": 0,
      "outputs": [
        {
          "output_type": "execute_result",
          "data": {
            "text/html": [
              "<div>\n",
              "<style scoped>\n",
              "    .dataframe tbody tr th:only-of-type {\n",
              "        vertical-align: middle;\n",
              "    }\n",
              "\n",
              "    .dataframe tbody tr th {\n",
              "        vertical-align: top;\n",
              "    }\n",
              "\n",
              "    .dataframe thead th {\n",
              "        text-align: right;\n",
              "    }\n",
              "</style>\n",
              "<table border=\"1\" class=\"dataframe\">\n",
              "  <thead>\n",
              "    <tr style=\"text-align: right;\">\n",
              "      <th></th>\n",
              "      <th>id</th>\n",
              "      <th>year</th>\n",
              "      <th>manufacturer</th>\n",
              "      <th>model</th>\n",
              "      <th>fuel</th>\n",
              "      <th>odometer</th>\n",
              "      <th>transmission</th>\n",
              "    </tr>\n",
              "  </thead>\n",
              "  <tbody>\n",
              "    <tr>\n",
              "      <th>0</th>\n",
              "      <td>7034441763</td>\n",
              "      <td>2012.0</td>\n",
              "      <td>volkswagen</td>\n",
              "      <td>golf r</td>\n",
              "      <td>gas</td>\n",
              "      <td>63500.0</td>\n",
              "      <td>manual</td>\n",
              "    </tr>\n",
              "    <tr>\n",
              "      <th>1</th>\n",
              "      <td>7034440610</td>\n",
              "      <td>2016.0</td>\n",
              "      <td>ford</td>\n",
              "      <td>f-150</td>\n",
              "      <td>gas</td>\n",
              "      <td>10.0</td>\n",
              "      <td>automatic</td>\n",
              "    </tr>\n",
              "    <tr>\n",
              "      <th>2</th>\n",
              "      <td>7034440588</td>\n",
              "      <td>2015.0</td>\n",
              "      <td>gmc</td>\n",
              "      <td>sierra 1500</td>\n",
              "      <td>gas</td>\n",
              "      <td>7554.0</td>\n",
              "      <td>automatic</td>\n",
              "    </tr>\n",
              "    <tr>\n",
              "      <th>3</th>\n",
              "      <td>7034440546</td>\n",
              "      <td>2016.0</td>\n",
              "      <td>ford</td>\n",
              "      <td>f-150</td>\n",
              "      <td>gas</td>\n",
              "      <td>10.0</td>\n",
              "      <td>automatic</td>\n",
              "    </tr>\n",
              "    <tr>\n",
              "      <th>4</th>\n",
              "      <td>7034406932</td>\n",
              "      <td>2018.0</td>\n",
              "      <td>ford</td>\n",
              "      <td>f-450</td>\n",
              "      <td>diesel</td>\n",
              "      <td>70150.0</td>\n",
              "      <td>automatic</td>\n",
              "    </tr>\n",
              "    <tr>\n",
              "      <th>...</th>\n",
              "      <td>...</td>\n",
              "      <td>...</td>\n",
              "      <td>...</td>\n",
              "      <td>...</td>\n",
              "      <td>...</td>\n",
              "      <td>...</td>\n",
              "      <td>...</td>\n",
              "    </tr>\n",
              "    <tr>\n",
              "      <th>19996</th>\n",
              "      <td>7049052853</td>\n",
              "      <td>2016.0</td>\n",
              "      <td>ram</td>\n",
              "      <td>cummin 2500 laramie</td>\n",
              "      <td>diesel</td>\n",
              "      <td>43406.0</td>\n",
              "      <td>automatic</td>\n",
              "    </tr>\n",
              "    <tr>\n",
              "      <th>19997</th>\n",
              "      <td>7049052797</td>\n",
              "      <td>2018.0</td>\n",
              "      <td>nissan</td>\n",
              "      <td>sentra</td>\n",
              "      <td>gas</td>\n",
              "      <td>32867.0</td>\n",
              "      <td>automatic</td>\n",
              "    </tr>\n",
              "    <tr>\n",
              "      <th>19998</th>\n",
              "      <td>7049049369</td>\n",
              "      <td>2019.0</td>\n",
              "      <td>jeep</td>\n",
              "      <td>grand cherokee limited</td>\n",
              "      <td>gas</td>\n",
              "      <td>17514.0</td>\n",
              "      <td>automatic</td>\n",
              "    </tr>\n",
              "    <tr>\n",
              "      <th>19999</th>\n",
              "      <td>7049042761</td>\n",
              "      <td>2017.0</td>\n",
              "      <td>toyota</td>\n",
              "      <td>corolla</td>\n",
              "      <td>gas</td>\n",
              "      <td>30486.0</td>\n",
              "      <td>automatic</td>\n",
              "    </tr>\n",
              "    <tr>\n",
              "      <th>20000</th>\n",
              "      <td>7049039610</td>\n",
              "      <td>2019.0</td>\n",
              "      <td>toyota</td>\n",
              "      <td>4runner sr5 4x4 gas suv</td>\n",
              "      <td>gas</td>\n",
              "      <td>22078.0</td>\n",
              "      <td>automatic</td>\n",
              "    </tr>\n",
              "  </tbody>\n",
              "</table>\n",
              "<p>20001 rows × 7 columns</p>\n",
              "</div>"
            ],
            "text/plain": [
              "               id    year manufacturer  ...    fuel odometer  transmission\n",
              "0      7034441763  2012.0   volkswagen  ...     gas  63500.0        manual\n",
              "1      7034440610  2016.0         ford  ...     gas     10.0     automatic\n",
              "2      7034440588  2015.0          gmc  ...     gas   7554.0     automatic\n",
              "3      7034440546  2016.0         ford  ...     gas     10.0     automatic\n",
              "4      7034406932  2018.0         ford  ...  diesel  70150.0     automatic\n",
              "...           ...     ...          ...  ...     ...      ...           ...\n",
              "19996  7049052853  2016.0          ram  ...  diesel  43406.0     automatic\n",
              "19997  7049052797  2018.0       nissan  ...     gas  32867.0     automatic\n",
              "19998  7049049369  2019.0         jeep  ...     gas  17514.0     automatic\n",
              "19999  7049042761  2017.0       toyota  ...     gas  30486.0     automatic\n",
              "20000  7049039610  2019.0       toyota  ...     gas  22078.0     automatic\n",
              "\n",
              "[20001 rows x 7 columns]"
            ]
          },
          "metadata": {
            "tags": []
          },
          "execution_count": 7
        }
      ]
    },
    {
      "cell_type": "markdown",
      "metadata": {
        "id": "q8plpL1ym3cd",
        "colab_type": "text"
      },
      "source": [
        "2.  **Data Imputation** to Missing value\n",
        "\n",
        "in this phase, this model going to fill the features that has the missing value"
      ]
    },
    {
      "cell_type": "code",
      "metadata": {
        "id": "gPV3wJSKm7J-",
        "colab_type": "code",
        "outputId": "56503d57-5d3b-4d2a-8c6c-a2509565f500",
        "colab": {
          "base_uri": "https://localhost:8080/",
          "height": 158
        }
      },
      "source": [
        "#we sum the missing value that occurs\n",
        "df.isnull().sum()"
      ],
      "execution_count": 0,
      "outputs": [
        {
          "output_type": "execute_result",
          "data": {
            "text/plain": [
              "id                 0\n",
              "year              12\n",
              "manufacturer     705\n",
              "model            265\n",
              "fuel              73\n",
              "odometer        2389\n",
              "transmission     190\n",
              "dtype: int64"
            ]
          },
          "metadata": {
            "tags": []
          },
          "execution_count": 11
        }
      ]
    },
    {
      "cell_type": "code",
      "metadata": {
        "id": "U6rG9Nd_g0FF",
        "colab_type": "code",
        "colab": {}
      },
      "source": [
        "#groups the data based on numerical or categorical forms to make it easier when we trying to fill the missing value\n",
        "numerical = ['id','year','odometer']\n",
        "categorical = ['manufacturer','model',\n",
        "               'fuel','transmission']"
      ],
      "execution_count": 0,
      "outputs": []
    },
    {
      "cell_type": "code",
      "metadata": {
        "id": "w7QIARZthmOp",
        "colab_type": "code",
        "colab": {}
      },
      "source": [
        "#fill the data with the mean (for numerical data) and mode/modus (for the categorical data) \n",
        "for num in numerical:\n",
        "    df[num] = df[num].fillna(df[num].mean())\n",
        "\n",
        "for cat in categorical:\n",
        "    df[cat] = df[cat].fillna(df[cat].mode().values[0])"
      ],
      "execution_count": 0,
      "outputs": []
    },
    {
      "cell_type": "code",
      "metadata": {
        "id": "9mJQBmDEQ5KM",
        "colab_type": "code",
        "outputId": "bfb3c18f-d331-4900-9777-50c9315df38a",
        "colab": {
          "base_uri": "https://localhost:8080/",
          "height": 158
        }
      },
      "source": [
        "#viola! now all the missing value on the features is fullfil\n",
        "df.isnull().sum()"
      ],
      "execution_count": 0,
      "outputs": [
        {
          "output_type": "execute_result",
          "data": {
            "text/plain": [
              "id              0\n",
              "year            0\n",
              "manufacturer    0\n",
              "model           0\n",
              "fuel            0\n",
              "odometer        0\n",
              "transmission    0\n",
              "dtype: int64"
            ]
          },
          "metadata": {
            "tags": []
          },
          "execution_count": 14
        }
      ]
    },
    {
      "cell_type": "markdown",
      "metadata": {
        "id": "rTzhZqweFgMo",
        "colab_type": "text"
      },
      "source": [
        "3. **Encode the Data** using LabelEncoder()\n",
        "\n",
        "in this phase we encode the categorical data into numerical, we do this because we need the numerical form of data for the classification!"
      ]
    },
    {
      "cell_type": "code",
      "metadata": {
        "id": "2eSXlyeahuOW",
        "colab_type": "code",
        "colab": {}
      },
      "source": [
        "#import the library for encode the data, this model is using LabelEncoder to encode the data\n",
        "from sklearn import preprocessing\n",
        "le = preprocessing.LabelEncoder()\n",
        "\n",
        "#begin to encode it\n",
        "manufac         = le.fit_transform(df['manufacturer'])\n",
        "model           = le.fit_transform(df['model'])\n",
        "fuel            = le.fit_transform(df['fuel'])\n",
        "transmission    = le.fit_transform(df['transmission'])\n",
        "\n",
        "df['manufacturer'] = manufac\n",
        "df['model'] = model\n",
        "df['fuel'] = fuel\n",
        "df['transmission'] = transmission\n"
      ],
      "execution_count": 0,
      "outputs": []
    },
    {
      "cell_type": "code",
      "metadata": {
        "id": "Ga7BfuVh2j1_",
        "colab_type": "code",
        "outputId": "b21fbd01-7b05-405f-87d4-a59c9f76e069",
        "colab": {
          "base_uri": "https://localhost:8080/",
          "height": 197
        }
      },
      "source": [
        "df.head()"
      ],
      "execution_count": 0,
      "outputs": [
        {
          "output_type": "execute_result",
          "data": {
            "text/html": [
              "<div>\n",
              "<style scoped>\n",
              "    .dataframe tbody tr th:only-of-type {\n",
              "        vertical-align: middle;\n",
              "    }\n",
              "\n",
              "    .dataframe tbody tr th {\n",
              "        vertical-align: top;\n",
              "    }\n",
              "\n",
              "    .dataframe thead th {\n",
              "        text-align: right;\n",
              "    }\n",
              "</style>\n",
              "<table border=\"1\" class=\"dataframe\">\n",
              "  <thead>\n",
              "    <tr style=\"text-align: right;\">\n",
              "      <th></th>\n",
              "      <th>id</th>\n",
              "      <th>year</th>\n",
              "      <th>manufacturer</th>\n",
              "      <th>model</th>\n",
              "      <th>fuel</th>\n",
              "      <th>odometer</th>\n",
              "      <th>transmission</th>\n",
              "    </tr>\n",
              "  </thead>\n",
              "  <tbody>\n",
              "    <tr>\n",
              "      <th>0</th>\n",
              "      <td>7034441763</td>\n",
              "      <td>2012.0</td>\n",
              "      <td>38</td>\n",
              "      <td>2197</td>\n",
              "      <td>2</td>\n",
              "      <td>63500.0</td>\n",
              "      <td>1</td>\n",
              "    </tr>\n",
              "    <tr>\n",
              "      <th>1</th>\n",
              "      <td>7034440610</td>\n",
              "      <td>2016.0</td>\n",
              "      <td>12</td>\n",
              "      <td>1764</td>\n",
              "      <td>2</td>\n",
              "      <td>10.0</td>\n",
              "      <td>0</td>\n",
              "    </tr>\n",
              "    <tr>\n",
              "      <th>2</th>\n",
              "      <td>7034440588</td>\n",
              "      <td>2015.0</td>\n",
              "      <td>13</td>\n",
              "      <td>3285</td>\n",
              "      <td>2</td>\n",
              "      <td>7554.0</td>\n",
              "      <td>0</td>\n",
              "    </tr>\n",
              "    <tr>\n",
              "      <th>3</th>\n",
              "      <td>7034440546</td>\n",
              "      <td>2016.0</td>\n",
              "      <td>12</td>\n",
              "      <td>1764</td>\n",
              "      <td>2</td>\n",
              "      <td>10.0</td>\n",
              "      <td>0</td>\n",
              "    </tr>\n",
              "    <tr>\n",
              "      <th>4</th>\n",
              "      <td>7034406932</td>\n",
              "      <td>2018.0</td>\n",
              "      <td>12</td>\n",
              "      <td>1843</td>\n",
              "      <td>0</td>\n",
              "      <td>70150.0</td>\n",
              "      <td>0</td>\n",
              "    </tr>\n",
              "  </tbody>\n",
              "</table>\n",
              "</div>"
            ],
            "text/plain": [
              "           id    year  manufacturer  model  fuel  odometer  transmission\n",
              "0  7034441763  2012.0            38   2197     2   63500.0             1\n",
              "1  7034440610  2016.0            12   1764     2      10.0             0\n",
              "2  7034440588  2015.0            13   3285     2    7554.0             0\n",
              "3  7034440546  2016.0            12   1764     2      10.0             0\n",
              "4  7034406932  2018.0            12   1843     0   70150.0             0"
            ]
          },
          "metadata": {
            "tags": []
          },
          "execution_count": 16
        }
      ]
    },
    {
      "cell_type": "code",
      "metadata": {
        "id": "jinTnzb9SIKN",
        "colab_type": "code",
        "colab": {}
      },
      "source": [
        "#prepare the features that use for clasification (training data)\n",
        "features = [\n",
        "    'id',\n",
        "    'year',\n",
        "    'manufacturer',\n",
        "    'model',\n",
        "    'fuel',\n",
        "    'odometer'\n",
        "]"
      ],
      "execution_count": 0,
      "outputs": []
    },
    {
      "cell_type": "markdown",
      "metadata": {
        "id": "9cWEAGR5THdR",
        "colab_type": "text"
      },
      "source": [
        " 4. **Min Max Normalization**\n",
        "\n",
        "we do the MinMax normalization for the fatures that we are going to use as the training dataset"
      ]
    },
    {
      "cell_type": "code",
      "metadata": {
        "id": "GZUk2OzhSJ1w",
        "colab_type": "code",
        "outputId": "ff877f65-5ccf-4b99-ee61-2f47d4588e14",
        "colab": {
          "base_uri": "https://localhost:8080/",
          "height": 406
        }
      },
      "source": [
        "from sklearn.preprocessing import MinMaxScaler\n",
        "feat_scale = MinMaxScaler().fit_transform(df[features])\n",
        "scaleddata = pd.DataFrame(data = feat_scale , columns=[ 'id','year','manufacturer','model','fuel','odometer'])\n",
        "scaleddata"
      ],
      "execution_count": 0,
      "outputs": [
        {
          "output_type": "execute_result",
          "data": {
            "text/html": [
              "<div>\n",
              "<style scoped>\n",
              "    .dataframe tbody tr th:only-of-type {\n",
              "        vertical-align: middle;\n",
              "    }\n",
              "\n",
              "    .dataframe tbody tr th {\n",
              "        vertical-align: top;\n",
              "    }\n",
              "\n",
              "    .dataframe thead th {\n",
              "        text-align: right;\n",
              "    }\n",
              "</style>\n",
              "<table border=\"1\" class=\"dataframe\">\n",
              "  <thead>\n",
              "    <tr style=\"text-align: right;\">\n",
              "      <th></th>\n",
              "      <th>id</th>\n",
              "      <th>year</th>\n",
              "      <th>manufacturer</th>\n",
              "      <th>model</th>\n",
              "      <th>fuel</th>\n",
              "      <th>odometer</th>\n",
              "    </tr>\n",
              "  </thead>\n",
              "  <tbody>\n",
              "    <tr>\n",
              "      <th>0</th>\n",
              "      <td>0.105370</td>\n",
              "      <td>0.922330</td>\n",
              "      <td>0.974359</td>\n",
              "      <td>0.530292</td>\n",
              "      <td>0.5</td>\n",
              "      <td>0.025400</td>\n",
              "    </tr>\n",
              "    <tr>\n",
              "      <th>1</th>\n",
              "      <td>0.105304</td>\n",
              "      <td>0.961165</td>\n",
              "      <td>0.307692</td>\n",
              "      <td>0.425778</td>\n",
              "      <td>0.5</td>\n",
              "      <td>0.000004</td>\n",
              "    </tr>\n",
              "    <tr>\n",
              "      <th>2</th>\n",
              "      <td>0.105303</td>\n",
              "      <td>0.951456</td>\n",
              "      <td>0.333333</td>\n",
              "      <td>0.792904</td>\n",
              "      <td>0.5</td>\n",
              "      <td>0.003022</td>\n",
              "    </tr>\n",
              "    <tr>\n",
              "      <th>3</th>\n",
              "      <td>0.105301</td>\n",
              "      <td>0.961165</td>\n",
              "      <td>0.307692</td>\n",
              "      <td>0.425778</td>\n",
              "      <td>0.5</td>\n",
              "      <td>0.000004</td>\n",
              "    </tr>\n",
              "    <tr>\n",
              "      <th>4</th>\n",
              "      <td>0.103380</td>\n",
              "      <td>0.980583</td>\n",
              "      <td>0.307692</td>\n",
              "      <td>0.444847</td>\n",
              "      <td>0.0</td>\n",
              "      <td>0.028060</td>\n",
              "    </tr>\n",
              "    <tr>\n",
              "      <th>...</th>\n",
              "      <td>...</td>\n",
              "      <td>...</td>\n",
              "      <td>...</td>\n",
              "      <td>...</td>\n",
              "      <td>...</td>\n",
              "      <td>...</td>\n",
              "    </tr>\n",
              "    <tr>\n",
              "      <th>19996</th>\n",
              "      <td>0.940139</td>\n",
              "      <td>0.961165</td>\n",
              "      <td>0.820513</td>\n",
              "      <td>0.332851</td>\n",
              "      <td>0.0</td>\n",
              "      <td>0.017362</td>\n",
              "    </tr>\n",
              "    <tr>\n",
              "      <th>19997</th>\n",
              "      <td>0.940135</td>\n",
              "      <td>0.980583</td>\n",
              "      <td>0.743590</td>\n",
              "      <td>0.782525</td>\n",
              "      <td>0.5</td>\n",
              "      <td>0.013147</td>\n",
              "    </tr>\n",
              "    <tr>\n",
              "      <th>19998</th>\n",
              "      <td>0.939940</td>\n",
              "      <td>0.990291</td>\n",
              "      <td>0.487179</td>\n",
              "      <td>0.536809</td>\n",
              "      <td>0.5</td>\n",
              "      <td>0.007006</td>\n",
              "    </tr>\n",
              "    <tr>\n",
              "      <th>19999</th>\n",
              "      <td>0.939562</td>\n",
              "      <td>0.970874</td>\n",
              "      <td>0.948718</td>\n",
              "      <td>0.307989</td>\n",
              "      <td>0.5</td>\n",
              "      <td>0.012194</td>\n",
              "    </tr>\n",
              "    <tr>\n",
              "      <th>20000</th>\n",
              "      <td>0.939382</td>\n",
              "      <td>0.990291</td>\n",
              "      <td>0.948718</td>\n",
              "      <td>0.089790</td>\n",
              "      <td>0.5</td>\n",
              "      <td>0.008831</td>\n",
              "    </tr>\n",
              "  </tbody>\n",
              "</table>\n",
              "<p>20001 rows × 6 columns</p>\n",
              "</div>"
            ],
            "text/plain": [
              "             id      year  manufacturer     model  fuel  odometer\n",
              "0      0.105370  0.922330      0.974359  0.530292   0.5  0.025400\n",
              "1      0.105304  0.961165      0.307692  0.425778   0.5  0.000004\n",
              "2      0.105303  0.951456      0.333333  0.792904   0.5  0.003022\n",
              "3      0.105301  0.961165      0.307692  0.425778   0.5  0.000004\n",
              "4      0.103380  0.980583      0.307692  0.444847   0.0  0.028060\n",
              "...         ...       ...           ...       ...   ...       ...\n",
              "19996  0.940139  0.961165      0.820513  0.332851   0.0  0.017362\n",
              "19997  0.940135  0.980583      0.743590  0.782525   0.5  0.013147\n",
              "19998  0.939940  0.990291      0.487179  0.536809   0.5  0.007006\n",
              "19999  0.939562  0.970874      0.948718  0.307989   0.5  0.012194\n",
              "20000  0.939382  0.990291      0.948718  0.089790   0.5  0.008831\n",
              "\n",
              "[20001 rows x 6 columns]"
            ]
          },
          "metadata": {
            "tags": []
          },
          "execution_count": 19
        }
      ]
    },
    {
      "cell_type": "code",
      "metadata": {
        "id": "W34D608eljkX",
        "colab_type": "code",
        "colab": {}
      },
      "source": [
        "#So, these are the visualization after the encode data\n",
        "#save the data exploration result to csv\n",
        "df.head()\n",
        "df.to_csv('classificationdata.csv')"
      ],
      "execution_count": 0,
      "outputs": []
    },
    {
      "cell_type": "markdown",
      "metadata": {
        "id": "jCc-gTh4tdE5",
        "colab_type": "text"
      },
      "source": [
        "# **Histogram Visualization**\n",
        "\n",
        " to visualize the data distribution from the data that will use to the classification"
      ]
    },
    {
      "cell_type": "code",
      "metadata": {
        "id": "XRfo48SXniBV",
        "colab_type": "code",
        "outputId": "bd04f3a8-29d9-49c9-acbc-bd7c99c9c54d",
        "colab": {
          "base_uri": "https://localhost:8080/"
        }
      },
      "source": [
        "#Histogram Visualization\n",
        "import matplotlib.pyplot as plt\n",
        "df.hist('fuel')\n",
        "plt.figure(figsize=(10,7))\n",
        "plt.show()"
      ],
      "execution_count": 0,
      "outputs": [
        {
          "output_type": "display_data",
          "data": {
            "image/png": "[encoded data removed]",
            "text/plain": [
              "<Figure size 432x288 with 1 Axes>"
            ]
          },
          "metadata": {
            "tags": [],
            "needs_background": "light"
          }
        },
        {
          "output_type": "display_data",
          "data": {
            "text/plain": [
              "<Figure size 720x504 with 0 Axes>"
            ]
          },
          "metadata": {
            "tags": []
          }
        }
      ]
    },
    {
      "cell_type": "code",
      "metadata": {
        "id": "LtTWSOPduMj9",
        "colab_type": "code",
        "outputId": "be267a76-3cff-470f-c9c1-486d426fc95a",
        "colab": {
          "base_uri": "https://localhost:8080/"
        }
      },
      "source": [
        "#Histogram Visualization\n",
        "import matplotlib.pyplot as plt\n",
        "df.hist('model')\n",
        "plt.figure(figsize=(10,7))\n",
        "plt.show()"
      ],
      "execution_count": 0,
      "outputs": [
        {
          "output_type": "display_data",
          "data": {
            "image/png": "[encoded data removed]",
            "text/plain": [
              "<Figure size 432x288 with 1 Axes>"
            ]
          },
          "metadata": {
            "tags": [],
            "needs_background": "light"
          }
        },
        {
          "output_type": "display_data",
          "data": {
            "text/plain": [
              "<Figure size 720x504 with 0 Axes>"
            ]
          },
          "metadata": {
            "tags": []
          }
        }
      ]
    },
    {
      "cell_type": "code",
      "metadata": {
        "id": "zghd2BTmxHev",
        "colab_type": "code",
        "outputId": "4ffe6d25-f2de-4ec7-f13e-7b801901694c",
        "colab": {
          "base_uri": "https://localhost:8080/"
        }
      },
      "source": [
        "import matplotlib.pyplot as plt\n",
        "df.hist('transmission')\n",
        "plt.figure(figsize=(10,7))\n",
        "plt.show()"
      ],
      "execution_count": 0,
      "outputs": [
        {
          "output_type": "display_data",
          "data": {
            "image/png": "[encoded data removed]",
            "text/plain": [
              "<Figure size 432x288 with 1 Axes>"
            ]
          },
          "metadata": {
            "tags": [],
            "needs_background": "light"
          }
        },
        {
          "output_type": "display_data",
          "data": {
            "text/plain": [
              "<Figure size 720x504 with 0 Axes>"
            ]
          },
          "metadata": {
            "tags": []
          }
        }
      ]
    },
    {
      "cell_type": "code",
      "metadata": {
        "id": "IelUt_DtzEby",
        "colab_type": "code",
        "outputId": "826f8b48-11b2-4e28-b67c-fc8a4be2e1ee",
        "colab": {
          "base_uri": "https://localhost:8080/"
        }
      },
      "source": [
        "import matplotlib.pyplot as plt\n",
        "df.hist('manufacturer')\n",
        "plt.figure(figsize=(10,7))\n",
        "plt.show()"
      ],
      "execution_count": 0,
      "outputs": [
        {
          "output_type": "display_data",
          "data": {
            "image/png": "[encoded data removed]",
            "text/plain": [
              "<Figure size 432x288 with 1 Axes>"
            ]
          },
          "metadata": {
            "tags": [],
            "needs_background": "light"
          }
        },
        {
          "output_type": "display_data",
          "data": {
            "text/plain": [
              "<Figure size 720x504 with 0 Axes>"
            ]
          },
          "metadata": {
            "tags": []
          }
        }
      ]
    },
    {
      "cell_type": "code",
      "metadata": {
        "id": "koAOSCA6zIyh",
        "colab_type": "code",
        "outputId": "bdccbc62-a360-4d23-b04a-1a8c3d5c1e69",
        "colab": {
          "base_uri": "https://localhost:8080/"
        }
      },
      "source": [
        "import matplotlib.pyplot as plt\n",
        "df.hist('year')\n",
        "plt.figure(figsize=(10,7))\n",
        "plt.show()"
      ],
      "execution_count": 0,
      "outputs": [
        {
          "output_type": "display_data",
          "data": {
            "image/png": "[encoded data removed]",
            "text/plain": [
              "<Figure size 432x288 with 1 Axes>"
            ]
          },
          "metadata": {
            "tags": [],
            "needs_background": "light"
          }
        },
        {
          "output_type": "display_data",
          "data": {
            "text/plain": [
              "<Figure size 720x504 with 0 Axes>"
            ]
          },
          "metadata": {
            "tags": []
          }
        }
      ]
    },
    {
      "cell_type": "code",
      "metadata": {
        "id": "DcjaaF26zS2i",
        "colab_type": "code",
        "outputId": "5b18bd6f-2aff-4d4c-9f4f-e90f6567f5d5",
        "colab": {
          "base_uri": "https://localhost:8080/"
        }
      },
      "source": [
        "import matplotlib.pyplot as plt\n",
        "df.hist('odometer')\n",
        "plt.figure(figsize=(10,7))\n",
        "plt.show()"
      ],
      "execution_count": 0,
      "outputs": [
        {
          "output_type": "display_data",
          "data": {
            "image/png": "[encoded data removed]",
            "text/plain": [
              "<Figure size 432x288 with 1 Axes>"
            ]
          },
          "metadata": {
            "tags": [],
            "needs_background": "light"
          }
        },
        {
          "output_type": "display_data",
          "data": {
            "text/plain": [
              "<Figure size 720x504 with 0 Axes>"
            ]
          },
          "metadata": {
            "tags": []
          }
        }
      ]
    },
    {
      "cell_type": "markdown",
      "metadata": {
        "id": "q2CcyGu7tObn",
        "colab_type": "text"
      },
      "source": [
        "# **Matrix Correlation**\n",
        "\n",
        " betweens data that will be use to classification"
      ]
    },
    {
      "cell_type": "code",
      "metadata": {
        "id": "fcO71Qf9s9og",
        "colab_type": "code",
        "outputId": "9cfa6585-44d6-4a56-ae1f-6fd1d1aeb2f1",
        "colab": {
          "base_uri": "https://localhost:8080/"
        }
      },
      "source": [
        "import seaborn as sn\n",
        "corrMatrix = df.corr()\n",
        "plt.figure(figsize=(10,7))\n",
        "sn.heatmap(corrMatrix, annot=True)\n",
        "plt.show()"
      ],
      "execution_count": 0,
      "outputs": [
        {
          "output_type": "display_data",
          "data": {
            "image/png": "[encoded data removed]",
            "text/plain": [
              "<Figure size 720x504 with 2 Axes>"
            ]
          },
          "metadata": {
            "tags": [],
            "needs_background": "light"
          }
        }
      ]
    },
    {
      "cell_type": "markdown",
      "metadata": {
        "id": "Jvqjl5iTjyrb",
        "colab_type": "text"
      },
      "source": [
        "# **DATA** **SPLITTING**\n",
        " Split the dataset into the **Train Data** and **Test Data**\n",
        "\n",
        "in this phase, we split the data into training and test data for classification"
      ]
    },
    {
      "cell_type": "code",
      "metadata": {
        "id": "jBJFFdKojWnk",
        "colab_type": "code",
        "colab": {}
      },
      "source": [
        "# Set the X and y\n",
        "X = feat_scale # training dataset\n",
        "y = df.transmission #testing dataset\n",
        "\n",
        "X_train, X_test, y_train, y_test = train_test_split(X, y, test_size=0.3, random_state=101)\n"
      ],
      "execution_count": 0,
      "outputs": []
    },
    {
      "cell_type": "code",
      "metadata": {
        "id": "fkRhaANBvAN_",
        "colab_type": "code",
        "outputId": "ab635831-f92c-42de-dc9f-04df181e36cd",
        "colab": {
          "base_uri": "https://localhost:8080/",
          "height": 406
        }
      },
      "source": [
        "testingdata = pd.DataFrame(data = y)\n",
        "testingdata"
      ],
      "execution_count": 0,
      "outputs": [
        {
          "output_type": "execute_result",
          "data": {
            "text/html": [
              "<div>\n",
              "<style scoped>\n",
              "    .dataframe tbody tr th:only-of-type {\n",
              "        vertical-align: middle;\n",
              "    }\n",
              "\n",
              "    .dataframe tbody tr th {\n",
              "        vertical-align: top;\n",
              "    }\n",
              "\n",
              "    .dataframe thead th {\n",
              "        text-align: right;\n",
              "    }\n",
              "</style>\n",
              "<table border=\"1\" class=\"dataframe\">\n",
              "  <thead>\n",
              "    <tr style=\"text-align: right;\">\n",
              "      <th></th>\n",
              "      <th>transmission</th>\n",
              "    </tr>\n",
              "  </thead>\n",
              "  <tbody>\n",
              "    <tr>\n",
              "      <th>0</th>\n",
              "      <td>1</td>\n",
              "    </tr>\n",
              "    <tr>\n",
              "      <th>1</th>\n",
              "      <td>0</td>\n",
              "    </tr>\n",
              "    <tr>\n",
              "      <th>2</th>\n",
              "      <td>0</td>\n",
              "    </tr>\n",
              "    <tr>\n",
              "      <th>3</th>\n",
              "      <td>0</td>\n",
              "    </tr>\n",
              "    <tr>\n",
              "      <th>4</th>\n",
              "      <td>0</td>\n",
              "    </tr>\n",
              "    <tr>\n",
              "      <th>...</th>\n",
              "      <td>...</td>\n",
              "    </tr>\n",
              "    <tr>\n",
              "      <th>19996</th>\n",
              "      <td>0</td>\n",
              "    </tr>\n",
              "    <tr>\n",
              "      <th>19997</th>\n",
              "      <td>0</td>\n",
              "    </tr>\n",
              "    <tr>\n",
              "      <th>19998</th>\n",
              "      <td>0</td>\n",
              "    </tr>\n",
              "    <tr>\n",
              "      <th>19999</th>\n",
              "      <td>0</td>\n",
              "    </tr>\n",
              "    <tr>\n",
              "      <th>20000</th>\n",
              "      <td>0</td>\n",
              "    </tr>\n",
              "  </tbody>\n",
              "</table>\n",
              "<p>20001 rows × 1 columns</p>\n",
              "</div>"
            ],
            "text/plain": [
              "       transmission\n",
              "0                 1\n",
              "1                 0\n",
              "2                 0\n",
              "3                 0\n",
              "4                 0\n",
              "...             ...\n",
              "19996             0\n",
              "19997             0\n",
              "19998             0\n",
              "19999             0\n",
              "20000             0\n",
              "\n",
              "[20001 rows x 1 columns]"
            ]
          },
          "metadata": {
            "tags": []
          },
          "execution_count": 22
        }
      ]
    },
    {
      "cell_type": "code",
      "metadata": {
        "id": "tRV6BQzHS_NW",
        "colab_type": "code",
        "outputId": "ec5975aa-b298-494c-faa5-1cae6dfe060b",
        "colab": {
          "base_uri": "https://localhost:8080/",
          "height": 406
        }
      },
      "source": [
        "trainingdata = pd.DataFrame(data = X , columns=[ 'id','year','manufacturer','model','fuel','odometer'])\n",
        "trainingdata"
      ],
      "execution_count": 0,
      "outputs": [
        {
          "output_type": "execute_result",
          "data": {
            "text/html": [
              "<div>\n",
              "<style scoped>\n",
              "    .dataframe tbody tr th:only-of-type {\n",
              "        vertical-align: middle;\n",
              "    }\n",
              "\n",
              "    .dataframe tbody tr th {\n",
              "        vertical-align: top;\n",
              "    }\n",
              "\n",
              "    .dataframe thead th {\n",
              "        text-align: right;\n",
              "    }\n",
              "</style>\n",
              "<table border=\"1\" class=\"dataframe\">\n",
              "  <thead>\n",
              "    <tr style=\"text-align: right;\">\n",
              "      <th></th>\n",
              "      <th>id</th>\n",
              "      <th>year</th>\n",
              "      <th>manufacturer</th>\n",
              "      <th>model</th>\n",
              "      <th>fuel</th>\n",
              "      <th>odometer</th>\n",
              "    </tr>\n",
              "  </thead>\n",
              "  <tbody>\n",
              "    <tr>\n",
              "      <th>0</th>\n",
              "      <td>0.105370</td>\n",
              "      <td>0.922330</td>\n",
              "      <td>0.974359</td>\n",
              "      <td>0.530292</td>\n",
              "      <td>0.5</td>\n",
              "      <td>0.025400</td>\n",
              "    </tr>\n",
              "    <tr>\n",
              "      <th>1</th>\n",
              "      <td>0.105304</td>\n",
              "      <td>0.961165</td>\n",
              "      <td>0.307692</td>\n",
              "      <td>0.425778</td>\n",
              "      <td>0.5</td>\n",
              "      <td>0.000004</td>\n",
              "    </tr>\n",
              "    <tr>\n",
              "      <th>2</th>\n",
              "      <td>0.105303</td>\n",
              "      <td>0.951456</td>\n",
              "      <td>0.333333</td>\n",
              "      <td>0.792904</td>\n",
              "      <td>0.5</td>\n",
              "      <td>0.003022</td>\n",
              "    </tr>\n",
              "    <tr>\n",
              "      <th>3</th>\n",
              "      <td>0.105301</td>\n",
              "      <td>0.961165</td>\n",
              "      <td>0.307692</td>\n",
              "      <td>0.425778</td>\n",
              "      <td>0.5</td>\n",
              "      <td>0.000004</td>\n",
              "    </tr>\n",
              "    <tr>\n",
              "      <th>4</th>\n",
              "      <td>0.103380</td>\n",
              "      <td>0.980583</td>\n",
              "      <td>0.307692</td>\n",
              "      <td>0.444847</td>\n",
              "      <td>0.0</td>\n",
              "      <td>0.028060</td>\n",
              "    </tr>\n",
              "    <tr>\n",
              "      <th>...</th>\n",
              "      <td>...</td>\n",
              "      <td>...</td>\n",
              "      <td>...</td>\n",
              "      <td>...</td>\n",
              "      <td>...</td>\n",
              "      <td>...</td>\n",
              "    </tr>\n",
              "    <tr>\n",
              "      <th>19996</th>\n",
              "      <td>0.940139</td>\n",
              "      <td>0.961165</td>\n",
              "      <td>0.820513</td>\n",
              "      <td>0.332851</td>\n",
              "      <td>0.0</td>\n",
              "      <td>0.017362</td>\n",
              "    </tr>\n",
              "    <tr>\n",
              "      <th>19997</th>\n",
              "      <td>0.940135</td>\n",
              "      <td>0.980583</td>\n",
              "      <td>0.743590</td>\n",
              "      <td>0.782525</td>\n",
              "      <td>0.5</td>\n",
              "      <td>0.013147</td>\n",
              "    </tr>\n",
              "    <tr>\n",
              "      <th>19998</th>\n",
              "      <td>0.939940</td>\n",
              "      <td>0.990291</td>\n",
              "      <td>0.487179</td>\n",
              "      <td>0.536809</td>\n",
              "      <td>0.5</td>\n",
              "      <td>0.007006</td>\n",
              "    </tr>\n",
              "    <tr>\n",
              "      <th>19999</th>\n",
              "      <td>0.939562</td>\n",
              "      <td>0.970874</td>\n",
              "      <td>0.948718</td>\n",
              "      <td>0.307989</td>\n",
              "      <td>0.5</td>\n",
              "      <td>0.012194</td>\n",
              "    </tr>\n",
              "    <tr>\n",
              "      <th>20000</th>\n",
              "      <td>0.939382</td>\n",
              "      <td>0.990291</td>\n",
              "      <td>0.948718</td>\n",
              "      <td>0.089790</td>\n",
              "      <td>0.5</td>\n",
              "      <td>0.008831</td>\n",
              "    </tr>\n",
              "  </tbody>\n",
              "</table>\n",
              "<p>20001 rows × 6 columns</p>\n",
              "</div>"
            ],
            "text/plain": [
              "             id      year  manufacturer     model  fuel  odometer\n",
              "0      0.105370  0.922330      0.974359  0.530292   0.5  0.025400\n",
              "1      0.105304  0.961165      0.307692  0.425778   0.5  0.000004\n",
              "2      0.105303  0.951456      0.333333  0.792904   0.5  0.003022\n",
              "3      0.105301  0.961165      0.307692  0.425778   0.5  0.000004\n",
              "4      0.103380  0.980583      0.307692  0.444847   0.0  0.028060\n",
              "...         ...       ...           ...       ...   ...       ...\n",
              "19996  0.940139  0.961165      0.820513  0.332851   0.0  0.017362\n",
              "19997  0.940135  0.980583      0.743590  0.782525   0.5  0.013147\n",
              "19998  0.939940  0.990291      0.487179  0.536809   0.5  0.007006\n",
              "19999  0.939562  0.970874      0.948718  0.307989   0.5  0.012194\n",
              "20000  0.939382  0.990291      0.948718  0.089790   0.5  0.008831\n",
              "\n",
              "[20001 rows x 6 columns]"
            ]
          },
          "metadata": {
            "tags": []
          },
          "execution_count": 23
        }
      ]
    },
    {
      "cell_type": "markdown",
      "metadata": {
        "id": "f8_RGmbDj7-4",
        "colab_type": "text"
      },
      "source": [
        "# **Classification**\n",
        "\n",
        "Now all the step on data preprocessing is finish, the next phase is we do our **classification**\n",
        "\n",
        "in this phase we do the classification using 3 classifier.\n",
        "1. Naive Bayes (Gaussian)\n",
        "2. KNN\n",
        "3. Decision tree"
      ]
    },
    {
      "cell_type": "markdown",
      "metadata": {
        "id": "HtQRK_mJkACN",
        "colab_type": "text"
      },
      "source": [
        "1. **Naive Bayes**\n",
        "\n",
        "the first classifier is Naive bayes"
      ]
    },
    {
      "cell_type": "code",
      "metadata": {
        "id": "xsYjm_pgj12o",
        "colab_type": "code",
        "outputId": "606591e1-8d1f-413c-b12a-867bb91c4751",
        "colab": {
          "base_uri": "https://localhost:8080/",
          "height": 34
        }
      },
      "source": [
        "#using Gaussian Naive Bayes to predict the class\n",
        "gnb = GaussianNB()\n",
        "gnb.fit(X_train, y_train)\n",
        "y_pred_NB = gnb.predict(X_test)\n",
        "#return the prediction\n",
        "y_pred_NB"
      ],
      "execution_count": 0,
      "outputs": [
        {
          "output_type": "execute_result",
          "data": {
            "text/plain": [
              "array([0, 0, 0, ..., 0, 0, 0])"
            ]
          },
          "metadata": {
            "tags": []
          },
          "execution_count": 24
        }
      ]
    },
    {
      "cell_type": "markdown",
      "metadata": {
        "id": "QPYxMNJxkORW",
        "colab_type": "text"
      },
      "source": [
        "2. **Decision Tree**\n",
        "\n",
        "The second classifier is Decision Tree"
      ]
    },
    {
      "cell_type": "code",
      "metadata": {
        "id": "2g92dnywkHyx",
        "colab_type": "code",
        "outputId": "3295cb8b-d4d5-4b41-e7aa-43b40f632b04",
        "colab": {
          "base_uri": "https://localhost:8080/",
          "height": 34
        }
      },
      "source": [
        "#using the decision tree to predict the class\n",
        "model_dt = DecisionTreeClassifier(criterion='entropy')\n",
        "model_dt.fit(X_train,y_train)\n",
        "y_pred_ID3 = model_dt.predict(X_test)\n",
        "#return the prediction\n",
        "y_pred_ID3"
      ],
      "execution_count": 0,
      "outputs": [
        {
          "output_type": "execute_result",
          "data": {
            "text/plain": [
              "array([0, 0, 0, ..., 0, 0, 0])"
            ]
          },
          "metadata": {
            "tags": []
          },
          "execution_count": 25
        }
      ]
    },
    {
      "cell_type": "markdown",
      "metadata": {
        "id": "-fBKOyMmCk3Z",
        "colab_type": "text"
      },
      "source": [
        "3. **KNN**\n",
        "\n",
        "The third classifier is K Nearest Neighbord (KNN"
      ]
    },
    {
      "cell_type": "code",
      "metadata": {
        "id": "0ygYpMqFCjei",
        "colab_type": "code",
        "outputId": "8974c1c1-1a3b-48b5-f024-ed7594e2bda8",
        "colab": {
          "base_uri": "https://localhost:8080/",
          "height": 34
        }
      },
      "source": [
        "#using the knn to predict the class\n",
        "model_knn = KNeighborsClassifier(n_neighbors=5)\n",
        "model_knn.fit(X_train, y_train)\n",
        "y_pred_knn = model_knn.predict(X_test)\n",
        "#return the prediction\n",
        "y_pred_knn"
      ],
      "execution_count": 0,
      "outputs": [
        {
          "output_type": "execute_result",
          "data": {
            "text/plain": [
              "array([0, 0, 0, ..., 0, 0, 0])"
            ]
          },
          "metadata": {
            "tags": []
          },
          "execution_count": 26
        }
      ]
    },
    {
      "cell_type": "markdown",
      "metadata": {
        "id": "7z61MlPskmcd",
        "colab_type": "text"
      },
      "source": [
        "# **Accuracy**\n",
        "\n",
        "in this phase we calculate the **Accuraccy, Confussion Matrix, Precision, Recall,F1-Score, Support** of every model. "
      ]
    },
    {
      "cell_type": "markdown",
      "metadata": {
        "id": "4-ZXnJVnkrE5",
        "colab_type": "text"
      },
      "source": [
        "1. Naive Bayes"
      ]
    },
    {
      "cell_type": "code",
      "metadata": {
        "id": "OFrWr4N5kZp3",
        "colab_type": "code",
        "outputId": "3f0d7f3c-b7f7-4b2c-aab3-4df164aea823",
        "colab": {
          "base_uri": "https://localhost:8080/",
          "height": 356
        }
      },
      "source": [
        "# print the Confusion Matrix, Acuracy Score, and Report (precision, recallm f1-score, support)\n",
        "y_true = y_test\n",
        "results = confusion_matrix(y_true, y_pred_NB) \n",
        "print('Confusion Matrix Naive Bayes Classifier :')\n",
        "print(results) \n",
        "print('Accuracy Score :',accuracy_score(y_true, y_pred_NB))\n",
        "print('Report : ')\n",
        "print(classification_report(y_true, y_pred_NB))"
      ],
      "execution_count": 0,
      "outputs": [
        {
          "output_type": "stream",
          "text": [
            "Confusion Matrix Naive Bayes Classifier :\n",
            "[[5219  101    0]\n",
            " [ 443   62    0]\n",
            " [ 171    5    0]]\n",
            "Accuracy Score : 0.8800199966672221\n",
            "Report : \n",
            "              precision    recall  f1-score   support\n",
            "\n",
            "           0       0.89      0.98      0.94      5320\n",
            "           1       0.37      0.12      0.18       505\n",
            "           2       0.00      0.00      0.00       176\n",
            "\n",
            "    accuracy                           0.88      6001\n",
            "   macro avg       0.42      0.37      0.37      6001\n",
            "weighted avg       0.82      0.88      0.85      6001\n",
            "\n"
          ],
          "name": "stdout"
        },
        {
          "output_type": "stream",
          "text": [
            "/usr/local/lib/python3.6/dist-packages/sklearn/metrics/_classification.py:1272: UndefinedMetricWarning: Precision and F-score are ill-defined and being set to 0.0 in labels with no predicted samples. Use `zero_division` parameter to control this behavior.\n",
            "  _warn_prf(average, modifier, msg_start, len(result))\n"
          ],
          "name": "stderr"
        }
      ]
    },
    {
      "cell_type": "markdown",
      "metadata": {
        "id": "Cd_8Xl9Ek4V4",
        "colab_type": "text"
      },
      "source": [
        "2. KNN"
      ]
    },
    {
      "cell_type": "code",
      "metadata": {
        "id": "9ZRTYlDVk6Vq",
        "colab_type": "code",
        "outputId": "f880ded1-76e3-4320-9041-7e4d8df9a145",
        "colab": {
          "base_uri": "https://localhost:8080/",
          "height": 301
        }
      },
      "source": [
        "#print the Confusion Matrix, Acuracy Score, and Report (precision, recallm f1-score, support)\n",
        "y_true = y_test\n",
        "results = confusion_matrix(y_true, y_pred_knn) \n",
        "print('Confusion Matrix :')\n",
        "print(results) \n",
        "print('Accuracy Score :',accuracy_score(y_true, y_pred_knn))\n",
        "print('Report : ')\n",
        "print(classification_report(y_true, y_pred_knn))"
      ],
      "execution_count": 0,
      "outputs": [
        {
          "output_type": "stream",
          "text": [
            "Confusion Matrix :\n",
            "[[5162  133   25]\n",
            " [ 402  101    2]\n",
            " [ 158    9    9]]\n",
            "Accuracy Score : 0.8785202466255624\n",
            "Report : \n",
            "              precision    recall  f1-score   support\n",
            "\n",
            "           0       0.90      0.97      0.93      5320\n",
            "           1       0.42      0.20      0.27       505\n",
            "           2       0.25      0.05      0.08       176\n",
            "\n",
            "    accuracy                           0.88      6001\n",
            "   macro avg       0.52      0.41      0.43      6001\n",
            "weighted avg       0.84      0.88      0.85      6001\n",
            "\n"
          ],
          "name": "stdout"
        }
      ]
    },
    {
      "cell_type": "markdown",
      "metadata": {
        "id": "_mHADvpbDDNa",
        "colab_type": "text"
      },
      "source": [
        "3. ID3"
      ]
    },
    {
      "cell_type": "code",
      "metadata": {
        "id": "sCS1_iSwDBUB",
        "colab_type": "code",
        "outputId": "6b1a8357-aae5-4bc4-efc6-c74726a0d884",
        "colab": {
          "base_uri": "https://localhost:8080/",
          "height": 301
        }
      },
      "source": [
        "# print the Confusion Matrix, Acuracy Score, and Report (precision, recallm f1-score, support)\n",
        "y_true = y_test\n",
        "results = confusion_matrix(y_true, y_pred_ID3) \n",
        "print('Confusion Matrix :')\n",
        "print(results) \n",
        "print('Accuracy Score :',accuracy_score(y_true, y_pred_ID3))\n",
        "print('Report : ')\n",
        "print(classification_report(y_true, y_pred_ID3))"
      ],
      "execution_count": 0,
      "outputs": [
        {
          "output_type": "stream",
          "text": [
            "Confusion Matrix :\n",
            "[[4934  286  100]\n",
            " [ 275  222    8]\n",
            " [ 102   14   60]]\n",
            "Accuracy Score : 0.8691884685885686\n",
            "Report : \n",
            "              precision    recall  f1-score   support\n",
            "\n",
            "           0       0.93      0.93      0.93      5320\n",
            "           1       0.43      0.44      0.43       505\n",
            "           2       0.36      0.34      0.35       176\n",
            "\n",
            "    accuracy                           0.87      6001\n",
            "   macro avg       0.57      0.57      0.57      6001\n",
            "weighted avg       0.87      0.87      0.87      6001\n",
            "\n"
          ],
          "name": "stdout"
        }
      ]
    },
    {
      "cell_type": "markdown",
      "metadata": {
        "id": "gG8El9A_lEuN",
        "colab_type": "text"
      },
      "source": [
        "# **Comparison between Accuracy**\n",
        "\n",
        "In this phase we **compare the acuracy** between model knn, decision tree and naive bayes."
      ]
    },
    {
      "cell_type": "code",
      "metadata": {
        "id": "GDL0ctXylJNA",
        "colab_type": "code",
        "outputId": "fe1828ff-7f00-490b-a475-d3deb942bfd9",
        "colab": {
          "base_uri": "https://localhost:8080/",
          "height": 406
        }
      },
      "source": [
        "result_class = pd.DataFrame({\n",
        "    'True Predictions': y_true,\n",
        "    'Naive Bayes': y_pred_NB,\n",
        "    'KNN' : y_pred_knn,\n",
        "    'Decision Tree' : y_pred_ID3\n",
        "})\n",
        "\n",
        "result_class"
      ],
      "execution_count": 0,
      "outputs": [
        {
          "output_type": "execute_result",
          "data": {
            "text/html": [
              "<div>\n",
              "<style scoped>\n",
              "    .dataframe tbody tr th:only-of-type {\n",
              "        vertical-align: middle;\n",
              "    }\n",
              "\n",
              "    .dataframe tbody tr th {\n",
              "        vertical-align: top;\n",
              "    }\n",
              "\n",
              "    .dataframe thead th {\n",
              "        text-align: right;\n",
              "    }\n",
              "</style>\n",
              "<table border=\"1\" class=\"dataframe\">\n",
              "  <thead>\n",
              "    <tr style=\"text-align: right;\">\n",
              "      <th></th>\n",
              "      <th>True Predictions</th>\n",
              "      <th>Naive Bayes</th>\n",
              "      <th>KNN</th>\n",
              "      <th>Decision Tree</th>\n",
              "    </tr>\n",
              "  </thead>\n",
              "  <tbody>\n",
              "    <tr>\n",
              "      <th>17570</th>\n",
              "      <td>0</td>\n",
              "      <td>0</td>\n",
              "      <td>0</td>\n",
              "      <td>0</td>\n",
              "    </tr>\n",
              "    <tr>\n",
              "      <th>15176</th>\n",
              "      <td>0</td>\n",
              "      <td>0</td>\n",
              "      <td>0</td>\n",
              "      <td>0</td>\n",
              "    </tr>\n",
              "    <tr>\n",
              "      <th>12413</th>\n",
              "      <td>0</td>\n",
              "      <td>0</td>\n",
              "      <td>0</td>\n",
              "      <td>0</td>\n",
              "    </tr>\n",
              "    <tr>\n",
              "      <th>3845</th>\n",
              "      <td>1</td>\n",
              "      <td>1</td>\n",
              "      <td>1</td>\n",
              "      <td>1</td>\n",
              "    </tr>\n",
              "    <tr>\n",
              "      <th>10952</th>\n",
              "      <td>0</td>\n",
              "      <td>0</td>\n",
              "      <td>0</td>\n",
              "      <td>0</td>\n",
              "    </tr>\n",
              "    <tr>\n",
              "      <th>...</th>\n",
              "      <td>...</td>\n",
              "      <td>...</td>\n",
              "      <td>...</td>\n",
              "      <td>...</td>\n",
              "    </tr>\n",
              "    <tr>\n",
              "      <th>19741</th>\n",
              "      <td>0</td>\n",
              "      <td>0</td>\n",
              "      <td>0</td>\n",
              "      <td>0</td>\n",
              "    </tr>\n",
              "    <tr>\n",
              "      <th>6748</th>\n",
              "      <td>0</td>\n",
              "      <td>0</td>\n",
              "      <td>0</td>\n",
              "      <td>0</td>\n",
              "    </tr>\n",
              "    <tr>\n",
              "      <th>15938</th>\n",
              "      <td>0</td>\n",
              "      <td>0</td>\n",
              "      <td>0</td>\n",
              "      <td>0</td>\n",
              "    </tr>\n",
              "    <tr>\n",
              "      <th>9700</th>\n",
              "      <td>0</td>\n",
              "      <td>0</td>\n",
              "      <td>0</td>\n",
              "      <td>0</td>\n",
              "    </tr>\n",
              "    <tr>\n",
              "      <th>7264</th>\n",
              "      <td>0</td>\n",
              "      <td>0</td>\n",
              "      <td>0</td>\n",
              "      <td>0</td>\n",
              "    </tr>\n",
              "  </tbody>\n",
              "</table>\n",
              "<p>6001 rows × 4 columns</p>\n",
              "</div>"
            ],
            "text/plain": [
              "       True Predictions  Naive Bayes  KNN  Decision Tree\n",
              "17570                 0            0    0              0\n",
              "15176                 0            0    0              0\n",
              "12413                 0            0    0              0\n",
              "3845                  1            1    1              1\n",
              "10952                 0            0    0              0\n",
              "...                 ...          ...  ...            ...\n",
              "19741                 0            0    0              0\n",
              "6748                  0            0    0              0\n",
              "15938                 0            0    0              0\n",
              "9700                  0            0    0              0\n",
              "7264                  0            0    0              0\n",
              "\n",
              "[6001 rows x 4 columns]"
            ]
          },
          "metadata": {
            "tags": []
          },
          "execution_count": 30
        }
      ]
    },
    {
      "cell_type": "markdown",
      "metadata": {
        "id": "XlAM4JEYE8DJ",
        "colab_type": "text"
      },
      "source": [
        "**Print the result class**\n",
        "\n",
        "note : the value of the class label (transmission column) is has 3 values (0, 1, 2)"
      ]
    },
    {
      "cell_type": "code",
      "metadata": {
        "id": "G8sghePbmVPx",
        "colab_type": "code",
        "outputId": "c8d6a855-23ae-4f2f-b74b-4eccf1881b98",
        "colab": {
          "base_uri": "https://localhost:8080/",
          "height": 70
        }
      },
      "source": [
        "result_class['Naive Bayes'].value_counts()"
      ],
      "execution_count": 0,
      "outputs": [
        {
          "output_type": "execute_result",
          "data": {
            "text/plain": [
              "0    5833\n",
              "1     168\n",
              "Name: Naive Bayes, dtype: int64"
            ]
          },
          "metadata": {
            "tags": []
          },
          "execution_count": 31
        }
      ]
    },
    {
      "cell_type": "code",
      "metadata": {
        "id": "Sdn8uz9HmXVt",
        "colab_type": "code",
        "outputId": "4031c12e-240c-4aa0-8057-238dabe34071",
        "colab": {
          "base_uri": "https://localhost:8080/",
          "height": 87
        }
      },
      "source": [
        "result_class['KNN'].value_counts()"
      ],
      "execution_count": 0,
      "outputs": [
        {
          "output_type": "execute_result",
          "data": {
            "text/plain": [
              "0    5722\n",
              "1     243\n",
              "2      36\n",
              "Name: KNN, dtype: int64"
            ]
          },
          "metadata": {
            "tags": []
          },
          "execution_count": 32
        }
      ]
    },
    {
      "cell_type": "code",
      "metadata": {
        "id": "sXM14nzQEwIk",
        "colab_type": "code",
        "outputId": "1d706bfb-ec0f-4dbd-f201-eb92397f2adc",
        "colab": {
          "base_uri": "https://localhost:8080/",
          "height": 87
        }
      },
      "source": [
        "result_class['Decision Tree'].value_counts()"
      ],
      "execution_count": 0,
      "outputs": [
        {
          "output_type": "execute_result",
          "data": {
            "text/plain": [
              "0    5311\n",
              "1     522\n",
              "2     168\n",
              "Name: Decision Tree, dtype: int64"
            ]
          },
          "metadata": {
            "tags": []
          },
          "execution_count": 33
        }
      ]
    },
    {
      "cell_type": "code",
      "metadata": {
        "id": "C-ucOK3ymdlS",
        "colab_type": "code",
        "outputId": "f806cda9-9b96-4b1a-8444-f43e156ed8dd",
        "colab": {
          "base_uri": "https://localhost:8080/",
          "height": 87
        }
      },
      "source": [
        "result_class['True Predictions'].value_counts()"
      ],
      "execution_count": 0,
      "outputs": [
        {
          "output_type": "execute_result",
          "data": {
            "text/plain": [
              "0    5320\n",
              "1     505\n",
              "2     176\n",
              "Name: True Predictions, dtype: int64"
            ]
          },
          "metadata": {
            "tags": []
          },
          "execution_count": 34
        }
      ]
    }
  ]
}